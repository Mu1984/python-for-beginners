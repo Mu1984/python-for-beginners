{
 "cells": [
  {
   "cell_type": "markdown",
   "metadata": {},
   "source": [
    "## Lecture 5"
   ]
  },
  {
   "cell_type": "markdown",
   "metadata": {},
   "source": [
    "## Developing Python Scripts\n",
    "-  We have few choices\n",
    "   - run python3 and enter python code interactively\n",
    "   - run ipython and enter python code interactively\n",
    "   - jupyter notebook\n",
    "   - All the above approaches wont be practical in production setting\n",
    "   - use tools such as idle, pycharm, atom, brackets, sublime\n",
    "     - use a text editor, enter python code and save it as a file with .py extension (e.g.: filename.py)\n",
    "     - python3 filename.py\n",
    "       - filename.py is also called as a python **script**"
   ]
  },
  {
   "cell_type": "markdown",
   "metadata": {},
   "source": [
    "## When Script Becomes Too Large\n",
    "- We refactor and organize code into many smaller files"
   ]
  },
  {
   "cell_type": "markdown",
   "metadata": {},
   "source": [
    "## What is a Module?\n",
    "\n",
    "![Script](images/Lecture-5.002.png)\n",
    "\n",
    "-  A module is a python script file containing function and class definitions, variables  and statements\n",
    "-  We dont want to reinvent the wheel\n",
    "   - Leverage the functions provided by standard python modules and packages"
   ]
  },
  {
   "cell_type": "markdown",
   "metadata": {},
   "source": [
    "-  Lets say we have a script.py\n",
    "   - it has functions foo(),  bar() defined\n",
    "-  In order to improve code readability we are chopping script.py into 2 files\n",
    "   1.  script.py\n",
    "   2.  foobar.py\n",
    "- This wont work because within script.py the python interpretor will not be able to search and locate foo() and bar() functions which are defined elsewhere\n",
    "  - It will look for the functions in its symbol table and wont find them\n",
    "  - The python interprestor needs to be told about func.py where func1(), func2() and func3() are defined\n",
    "  \n",
    "![Script](images/Lecture-5.003.png)"
   ]
  },
  {
   "cell_type": "markdown",
   "metadata": {},
   "source": [
    "- Where will the intepretor search looking for functions or variables or classes\n",
    "  - python intepretor will look inside a module called builtins\n",
    "  - diretories pointed by PYTHONPATH enviroment variables\n",
    "  - path specified by path in the module sys"
   ]
  },
  {
   "cell_type": "markdown",
   "metadata": {},
   "source": [
    "## Import Statement\n",
    "\n",
    "![Script](images/Lecture-5.004.png)\n",
    "- lets say we write a script called foobar.py which contains 3 functions\n",
    "  - foo()\n",
    "  - bar()\n",
    "- In a different file say, importeg.py I want to invoke these functions\n",
    "- Python will look for the module name (foobar) within built-ins and in place where it can find standard python modules or packages\n",
    "- Since it wont find foo() it will exit with name error\n",
    "- We need to tell python where to find foobar module which contains the foo()\n",
    "  - python provides the **import** statement to specify the module or package\n",
    "  - There are a few variations of using the import statement\n",
    "  - Enteries get added to the python intepretors symbol table\n",
    "  - using modulename.functionname() we invoke the function named functionaname\n",
    "  "
   ]
  },
  {
   "cell_type": "markdown",
   "metadata": {},
   "source": [
    "![from module](images/Lecture-5.005.png)\n",
    "![from_module multiple functions](images/Lecture-5.006.png)\n",
    "![import star](images/Lecture-5.007.png)\n",
    "![import as](images/Lecture-5.008.png)"
   ]
  },
  {
   "cell_type": "markdown",
   "metadata": {},
   "source": [
    "## What is a Package\n"
   ]
  },
  {
   "cell_type": "markdown",
   "metadata": {},
   "source": [
    "## Experimentation \n"
   ]
  },
  {
   "cell_type": "markdown",
   "metadata": {},
   "source": [
    "## Recap"
   ]
  },
  {
   "cell_type": "code",
   "execution_count": null,
   "metadata": {
    "collapsed": true
   },
   "outputs": [],
   "source": []
  }
 ],
 "metadata": {
  "kernelspec": {
   "display_name": "Python 3",
   "language": "python",
   "name": "python3"
  },
  "language_info": {
   "codemirror_mode": {
    "name": "ipython",
    "version": 3
   },
   "file_extension": ".py",
   "mimetype": "text/x-python",
   "name": "python",
   "nbconvert_exporter": "python",
   "pygments_lexer": "ipython3",
   "version": "3.5.2"
  }
 },
 "nbformat": 4,
 "nbformat_minor": 2
}
