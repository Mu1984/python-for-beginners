{
 "cells": [
  {
   "cell_type": "markdown",
   "metadata": {},
   "source": [
    "## Lecture 4\n",
    "-  Built-ins\n",
    "-  Basic import\n",
    "-  Function definition and invocation\n",
    "-  Documenting a function\n",
    "-  Default arguments\n",
    "-  Global and local variables\n",
    "-  Variable arguments\n",
    "-  Experimentation"
   ]
  },
  {
   "cell_type": "markdown",
   "metadata": {},
   "source": [
    "## Builtin Functions\n",
    "-  Python has an extensive collections of useful functions\n",
    "   - The Python interpreter has a number of functions built into it that are always available\n",
    "     - **No import necessary**\n",
    "-  So far we have used a few of them namely:\n",
    "\n",
    "   - **print**(\"Hello World!\")  # outputs the string \"Hello World!\" on screen\n",
    "   - **type**(\"Hello World!\")   # finds out the type of the variable\n",
    "   - **int**(\"333\")             # converts a string \"333\" to integer 333\n",
    "   - **str**(33)                # converts an integer 33 to string \"33\"\n",
    "   - **input**(\"Enter an integer\") # read a string from standard-in (keyboard)\n",
    "   - **float**(\"3.1415\")        # converts a string \"3.1415\" into a float\n",
    "   - **bool('true')**           # returns True\n",
    "   - **id(3)**                  # unique id of object 3\n",
    "   - **range(start, stop [,step ])** Sequence of numbers from start to stop-1\n",
    "   - **enumerate(sequence)**      # returns index and value\n"
   ]
  },
  {
   "cell_type": "markdown",
   "metadata": {},
   "source": [
    "| Built-in Functions |\n",
    "| ---- |\t---- \t| ---- |\t---- \t| ---- |   \n",
    "| abs()  |\tdict() \t| help() |\tmin() \t| setattr() |\n",
    "| all() |\tdir() |\thex() |\tnext() |\tslice() |\n",
    "| any() |\tdivmod() |\tid() |\tobject() |\tsorted() |\n",
    "| ascii() |\tenumerate() |\tinput() |\toct() |\tstaticmethod() |\n",
    "| bin() |\teval() |\tint() |\topen() |\tstr() |\n",
    "| bool() |\texec() |\tisinstance() |\tord() |\tsum() |\n",
    "| bytearray() |\tfilter() |\tissubclass() |\tpow() |\tsuper() |\n",
    "| bytes() |\tfloat() |\titer() |\tprint() |\ttuple() |\n",
    "| callable() |\tformat() |\tlen() |\tproperty() |\ttype() |\n",
    "| chr() |\tfrozenset() |\tlist() |\trange() |\tvars() |\n",
    "| classmethod() |\tgetattr() |\tlocals() |\trepr() |\tzip() |\n",
    "| compile() |\tglobals() |\tmap() |\treversed() |\t |\n",
    "| complex() |\thasattr() |\tmax() |\tround() |\t \n",
    "| delattr() |\thash() |\tmemoryview() |\tset() |\t \n"
   ]
  },
  {
   "cell_type": "markdown",
   "metadata": {},
   "source": [
    "## Import"
   ]
  },
  {
   "cell_type": "markdown",
   "metadata": {},
   "source": [
    "- We looked into a few useful builtins, which are python functions availabe in the interpreter\n",
    "- There are lot more amazing functions available as modules in python\n",
    "  - There are python standard libraries and open source libraries/modules\n",
    "  - Think about them as separate python programs which we need to import them\n",
    "    - Basically include them into our program to use them\n",
    "  - math is such a module which can be imported into our code\n",
    "  - We will look into importing in detail in later lectures\n",
    "  - Modules contains variable, functions and classes\n",
    "  - Lets look at a simple example"
   ]
  },
  {
   "cell_type": "markdown",
   "metadata": {},
   "source": [
    "## math"
   ]
  },
  {
   "cell_type": "code",
   "execution_count": 128,
   "metadata": {
    "scrolled": true
   },
   "outputs": [
    {
     "data": {
      "text/plain": [
       "3.141592653589793"
      ]
     },
     "execution_count": 128,
     "metadata": {},
     "output_type": "execute_result"
    }
   ],
   "source": [
    "import math\n",
    "math.pi"
   ]
  },
  {
   "cell_type": "markdown",
   "metadata": {},
   "source": [
    "## Builtin Modules"
   ]
  },
  {
   "cell_type": "code",
   "execution_count": 3,
   "metadata": {
    "collapsed": true
   },
   "outputs": [
    {
     "data": {
      "text/plain": [
       "('_ast',\n",
       " '_bisect',\n",
       " '_codecs',\n",
       " '_collections',\n",
       " '_datetime',\n",
       " '_elementtree',\n",
       " '_functools',\n",
       " '_heapq',\n",
       " '_imp',\n",
       " '_io',\n",
       " '_locale',\n",
       " '_md5',\n",
       " '_operator',\n",
       " '_pickle',\n",
       " '_posixsubprocess',\n",
       " '_random',\n",
       " '_sha1',\n",
       " '_sha256',\n",
       " '_sha512',\n",
       " '_signal',\n",
       " '_socket',\n",
       " '_sre',\n",
       " '_stat',\n",
       " '_string',\n",
       " '_struct',\n",
       " '_symtable',\n",
       " '_thread',\n",
       " '_tracemalloc',\n",
       " '_warnings',\n",
       " '_weakref',\n",
       " 'array',\n",
       " 'atexit',\n",
       " 'binascii',\n",
       " 'builtins',\n",
       " 'errno',\n",
       " 'faulthandler',\n",
       " 'fcntl',\n",
       " 'gc',\n",
       " 'grp',\n",
       " 'itertools',\n",
       " 'marshal',\n",
       " 'math',\n",
       " 'posix',\n",
       " 'pwd',\n",
       " 'pyexpat',\n",
       " 'select',\n",
       " 'spwd',\n",
       " 'sys',\n",
       " 'syslog',\n",
       " 'time',\n",
       " 'unicodedata',\n",
       " 'xxsubtype',\n",
       " 'zipimport',\n",
       " 'zlib')"
      ]
     },
     "execution_count": 3,
     "metadata": {},
     "output_type": "execute_result"
    }
   ],
   "source": [
    "import sys\n",
    "sys.builtin_module_names"
   ]
  },
  {
   "cell_type": "markdown",
   "metadata": {},
   "source": [
    "## Keyword List"
   ]
  },
  {
   "cell_type": "code",
   "execution_count": 8,
   "metadata": {
    "collapsed": true
   },
   "outputs": [
    {
     "data": {
      "text/plain": [
       "['False',\n",
       " 'None',\n",
       " 'True',\n",
       " 'and',\n",
       " 'as',\n",
       " 'assert',\n",
       " 'break',\n",
       " 'class',\n",
       " 'continue',\n",
       " 'def',\n",
       " 'del',\n",
       " 'elif',\n",
       " 'else',\n",
       " 'except',\n",
       " 'finally',\n",
       " 'for',\n",
       " 'from',\n",
       " 'global',\n",
       " 'if',\n",
       " 'import',\n",
       " 'in',\n",
       " 'is',\n",
       " 'lambda',\n",
       " 'nonlocal',\n",
       " 'not',\n",
       " 'or',\n",
       " 'pass',\n",
       " 'raise',\n",
       " 'return',\n",
       " 'try',\n",
       " 'while',\n",
       " 'with',\n",
       " 'yield']"
      ]
     },
     "execution_count": 8,
     "metadata": {},
     "output_type": "execute_result"
    }
   ],
   "source": [
    "import keyword\n",
    "keyword.kwlist"
   ]
  },
  {
   "cell_type": "markdown",
   "metadata": {},
   "source": [
    "### Dir"
   ]
  },
  {
   "cell_type": "markdown",
   "metadata": {},
   "source": [
    "- dir(module) to find out what is available in that module"
   ]
  },
  {
   "cell_type": "code",
   "execution_count": 39,
   "metadata": {
    "collapsed": true
   },
   "outputs": [
    {
     "name": "stdout",
     "output_type": "stream",
     "text": [
      "Help on built-in function dir in module builtins:\n",
      "\n",
      "dir(...)\n",
      "    dir([object]) -> list of strings\n",
      "    \n",
      "    If called without an argument, return the names in the current scope.\n",
      "    Else, return an alphabetized list of names comprising (some of) the attributes\n",
      "    of the given object, and of attributes reachable from it.\n",
      "    If the object supplies a method named __dir__, it will be used; otherwise\n",
      "    the default dir() logic is used and returns:\n",
      "      for a module object: the module's attributes.\n",
      "      for a class object:  its attributes, and recursively the attributes\n",
      "        of its bases.\n",
      "      for any other object: its attributes, its class's attributes, and\n",
      "        recursively the attributes of its class's base classes.\n",
      "\n"
     ]
    }
   ],
   "source": [
    "help(dir)"
   ]
  },
  {
   "cell_type": "markdown",
   "metadata": {},
   "source": [
    "## List of Built-in Functions"
   ]
  },
  {
   "cell_type": "code",
   "execution_count": 11,
   "metadata": {
    "collapsed": true
   },
   "outputs": [
    {
     "data": {
      "text/plain": [
       "['ArithmeticError',\n",
       " 'AssertionError',\n",
       " 'AttributeError',\n",
       " 'BaseException',\n",
       " 'BlockingIOError',\n",
       " 'BrokenPipeError',\n",
       " 'BufferError',\n",
       " 'BytesWarning',\n",
       " 'ChildProcessError',\n",
       " 'ConnectionAbortedError',\n",
       " 'ConnectionError',\n",
       " 'ConnectionRefusedError',\n",
       " 'ConnectionResetError',\n",
       " 'DeprecationWarning',\n",
       " 'EOFError',\n",
       " 'Ellipsis',\n",
       " 'EnvironmentError',\n",
       " 'Exception',\n",
       " 'False',\n",
       " 'FileExistsError',\n",
       " 'FileNotFoundError',\n",
       " 'FloatingPointError',\n",
       " 'FutureWarning',\n",
       " 'GeneratorExit',\n",
       " 'IOError',\n",
       " 'ImportError',\n",
       " 'ImportWarning',\n",
       " 'IndentationError',\n",
       " 'IndexError',\n",
       " 'InterruptedError',\n",
       " 'IsADirectoryError',\n",
       " 'KeyError',\n",
       " 'KeyboardInterrupt',\n",
       " 'LookupError',\n",
       " 'MemoryError',\n",
       " 'NameError',\n",
       " 'None',\n",
       " 'NotADirectoryError',\n",
       " 'NotImplemented',\n",
       " 'NotImplementedError',\n",
       " 'OSError',\n",
       " 'OverflowError',\n",
       " 'PendingDeprecationWarning',\n",
       " 'PermissionError',\n",
       " 'ProcessLookupError',\n",
       " 'RecursionError',\n",
       " 'ReferenceError',\n",
       " 'ResourceWarning',\n",
       " 'RuntimeError',\n",
       " 'RuntimeWarning',\n",
       " 'StopAsyncIteration',\n",
       " 'StopIteration',\n",
       " 'SyntaxError',\n",
       " 'SyntaxWarning',\n",
       " 'SystemError',\n",
       " 'SystemExit',\n",
       " 'TabError',\n",
       " 'TimeoutError',\n",
       " 'True',\n",
       " 'TypeError',\n",
       " 'UnboundLocalError',\n",
       " 'UnicodeDecodeError',\n",
       " 'UnicodeEncodeError',\n",
       " 'UnicodeError',\n",
       " 'UnicodeTranslateError',\n",
       " 'UnicodeWarning',\n",
       " 'UserWarning',\n",
       " 'ValueError',\n",
       " 'Warning',\n",
       " 'ZeroDivisionError',\n",
       " '__IPYTHON__',\n",
       " '__build_class__',\n",
       " '__debug__',\n",
       " '__doc__',\n",
       " '__import__',\n",
       " '__loader__',\n",
       " '__name__',\n",
       " '__package__',\n",
       " '__spec__',\n",
       " 'abs',\n",
       " 'all',\n",
       " 'any',\n",
       " 'ascii',\n",
       " 'bin',\n",
       " 'bool',\n",
       " 'bytearray',\n",
       " 'bytes',\n",
       " 'callable',\n",
       " 'chr',\n",
       " 'classmethod',\n",
       " 'compile',\n",
       " 'complex',\n",
       " 'copyright',\n",
       " 'credits',\n",
       " 'delattr',\n",
       " 'dict',\n",
       " 'dir',\n",
       " 'divmod',\n",
       " 'dreload',\n",
       " 'enumerate',\n",
       " 'eval',\n",
       " 'exec',\n",
       " 'filter',\n",
       " 'float',\n",
       " 'format',\n",
       " 'frozenset',\n",
       " 'get_ipython',\n",
       " 'getattr',\n",
       " 'globals',\n",
       " 'hasattr',\n",
       " 'hash',\n",
       " 'help',\n",
       " 'hex',\n",
       " 'id',\n",
       " 'input',\n",
       " 'int',\n",
       " 'isinstance',\n",
       " 'issubclass',\n",
       " 'iter',\n",
       " 'len',\n",
       " 'license',\n",
       " 'list',\n",
       " 'locals',\n",
       " 'map',\n",
       " 'max',\n",
       " 'memoryview',\n",
       " 'min',\n",
       " 'next',\n",
       " 'object',\n",
       " 'oct',\n",
       " 'open',\n",
       " 'ord',\n",
       " 'pow',\n",
       " 'print',\n",
       " 'property',\n",
       " 'range',\n",
       " 'repr',\n",
       " 'reversed',\n",
       " 'round',\n",
       " 'set',\n",
       " 'setattr',\n",
       " 'slice',\n",
       " 'sorted',\n",
       " 'staticmethod',\n",
       " 'str',\n",
       " 'sum',\n",
       " 'super',\n",
       " 'tuple',\n",
       " 'type',\n",
       " 'vars',\n",
       " 'zip']"
      ]
     },
     "execution_count": 11,
     "metadata": {},
     "output_type": "execute_result"
    }
   ],
   "source": [
    "dir(__builtin__)   # try: dir(__builtin__)[79:]"
   ]
  },
  {
   "cell_type": "code",
   "execution_count": 18,
   "metadata": {
    "collapsed": true
   },
   "outputs": [
    {
     "data": {
      "text/plain": [
       "['__doc__',\n",
       " '__loader__',\n",
       " '__name__',\n",
       " '__package__',\n",
       " '__spec__',\n",
       " 'acos',\n",
       " 'acosh',\n",
       " 'asin',\n",
       " 'asinh',\n",
       " 'atan',\n",
       " 'atan2',\n",
       " 'atanh',\n",
       " 'ceil',\n",
       " 'copysign',\n",
       " 'cos',\n",
       " 'cosh',\n",
       " 'degrees',\n",
       " 'e',\n",
       " 'erf',\n",
       " 'erfc',\n",
       " 'exp',\n",
       " 'expm1',\n",
       " 'fabs',\n",
       " 'factorial',\n",
       " 'floor',\n",
       " 'fmod',\n",
       " 'frexp',\n",
       " 'fsum',\n",
       " 'gamma',\n",
       " 'gcd',\n",
       " 'hypot',\n",
       " 'inf',\n",
       " 'isclose',\n",
       " 'isfinite',\n",
       " 'isinf',\n",
       " 'isnan',\n",
       " 'ldexp',\n",
       " 'lgamma',\n",
       " 'log',\n",
       " 'log10',\n",
       " 'log1p',\n",
       " 'log2',\n",
       " 'modf',\n",
       " 'nan',\n",
       " 'pi',\n",
       " 'pow',\n",
       " 'radians',\n",
       " 'sin',\n",
       " 'sinh',\n",
       " 'sqrt',\n",
       " 'tan',\n",
       " 'tanh',\n",
       " 'trunc']"
      ]
     },
     "execution_count": 18,
     "metadata": {},
     "output_type": "execute_result"
    }
   ],
   "source": [
    "dir(math)   # lists available functions in math module"
   ]
  },
  {
   "cell_type": "code",
   "execution_count": 19,
   "metadata": {
    "collapsed": true
   },
   "outputs": [
    {
     "name": "stdout",
     "output_type": "stream",
     "text": [
      "Help on built-in function sqrt in module math:\n",
      "\n",
      "sqrt(...)\n",
      "    sqrt(x)\n",
      "    \n",
      "    Return the square root of x.\n",
      "\n"
     ]
    }
   ],
   "source": [
    "help(math.sqrt)"
   ]
  },
  {
   "cell_type": "code",
   "execution_count": 130,
   "metadata": {},
   "outputs": [
    {
     "data": {
      "text/plain": [
       "4.0"
      ]
     },
     "execution_count": 130,
     "metadata": {},
     "output_type": "execute_result"
    }
   ],
   "source": [
    "math.sqrt(16)  # 4**2 = 16"
   ]
  },
  {
   "cell_type": "code",
   "execution_count": 129,
   "metadata": {
    "collapsed": true
   },
   "outputs": [
    {
     "name": "stdout",
     "output_type": "stream",
     "text": [
      "Help on built-in function pow in module math:\n",
      "\n",
      "pow(...)\n",
      "    pow(x, y)\n",
      "    \n",
      "    Return x**y (x to the power of y).\n",
      "\n"
     ]
    }
   ],
   "source": [
    "help(math.pow)"
   ]
  },
  {
   "cell_type": "code",
   "execution_count": 133,
   "metadata": {},
   "outputs": [
    {
     "data": {
      "text/plain": [
       "4.0"
      ]
     },
     "execution_count": 133,
     "metadata": {},
     "output_type": "execute_result"
    }
   ],
   "source": [
    "math.pow(2.0,2)"
   ]
  },
  {
   "cell_type": "code",
   "execution_count": 134,
   "metadata": {},
   "outputs": [
    {
     "data": {
      "text/plain": [
       "4"
      ]
     },
     "execution_count": 134,
     "metadata": {},
     "output_type": "execute_result"
    }
   ],
   "source": [
    "2 ** 2"
   ]
  },
  {
   "cell_type": "markdown",
   "metadata": {},
   "source": [
    "## Random"
   ]
  },
  {
   "cell_type": "code",
   "execution_count": 22,
   "metadata": {
    "collapsed": true
   },
   "outputs": [
    {
     "data": {
      "text/plain": [
       "['BPF',\n",
       " 'LOG4',\n",
       " 'NV_MAGICCONST',\n",
       " 'RECIP_BPF',\n",
       " 'Random',\n",
       " 'SG_MAGICCONST',\n",
       " 'SystemRandom',\n",
       " 'TWOPI',\n",
       " '_BuiltinMethodType',\n",
       " '_MethodType',\n",
       " '_Sequence',\n",
       " '_Set',\n",
       " '__all__',\n",
       " '__builtins__',\n",
       " '__cached__',\n",
       " '__doc__',\n",
       " '__file__',\n",
       " '__loader__',\n",
       " '__name__',\n",
       " '__package__',\n",
       " '__spec__',\n",
       " '_acos',\n",
       " '_ceil',\n",
       " '_cos',\n",
       " '_e',\n",
       " '_exp',\n",
       " '_inst',\n",
       " '_log',\n",
       " '_pi',\n",
       " '_random',\n",
       " '_sha512',\n",
       " '_sin',\n",
       " '_sqrt',\n",
       " '_test',\n",
       " '_test_generator',\n",
       " '_urandom',\n",
       " '_warn',\n",
       " 'betavariate',\n",
       " 'choice',\n",
       " 'expovariate',\n",
       " 'gammavariate',\n",
       " 'gauss',\n",
       " 'getrandbits',\n",
       " 'getstate',\n",
       " 'lognormvariate',\n",
       " 'normalvariate',\n",
       " 'paretovariate',\n",
       " 'randint',\n",
       " 'random',\n",
       " 'randrange',\n",
       " 'sample',\n",
       " 'seed',\n",
       " 'setstate',\n",
       " 'shuffle',\n",
       " 'triangular',\n",
       " 'uniform',\n",
       " 'vonmisesvariate',\n",
       " 'weibullvariate']"
      ]
     },
     "execution_count": 22,
     "metadata": {},
     "output_type": "execute_result"
    }
   ],
   "source": [
    "help(random)"
   ]
  },
  {
   "cell_type": "code",
   "execution_count": 2,
   "metadata": {
    "collapsed": true
   },
   "outputs": [],
   "source": [
    "import random"
   ]
  },
  {
   "cell_type": "code",
   "execution_count": 60,
   "metadata": {
    "scrolled": true
   },
   "outputs": [
    {
     "data": {
      "text/plain": [
       "1"
      ]
     },
     "execution_count": 60,
     "metadata": {},
     "output_type": "execute_result"
    }
   ],
   "source": [
    "random.randint(1,10)  # outputs a random integer number from 1 to 10"
   ]
  },
  {
   "cell_type": "code",
   "execution_count": 61,
   "metadata": {},
   "outputs": [
    {
     "name": "stdout",
     "output_type": "stream",
     "text": [
      "2 2 3 4 1 1 4 1 1 4 \n",
      "2 5 1 4 5 4 1 3 2 2 "
     ]
    }
   ],
   "source": [
    "for i  in range(10):\n",
    "    print(random.randint(1,5),end=' ')\n",
    "print()\n",
    "for i  in range(10):\n",
    "    print(random.randint(1,5),end=' ')"
   ]
  },
  {
   "cell_type": "markdown",
   "metadata": {},
   "source": [
    "## Seed"
   ]
  },
  {
   "cell_type": "code",
   "execution_count": 63,
   "metadata": {},
   "outputs": [
    {
     "name": "stdout",
     "output_type": "stream",
     "text": [
      "2 4 4 2 4 3 4 5 1 5 \n",
      "2 4 4 2 4 3 4 5 1 5 "
     ]
    }
   ],
   "source": [
    "random.seed(100)        # can be called with no arguments\n",
    "for i  in range(10):\n",
    "    print(random.randint(1,5),end=' ')\n",
    "print()\n",
    "random.seed(100)        # using the same seed\n",
    "for i  in range(10):\n",
    "    print(random.randint(1,5),end=' ')"
   ]
  },
  {
   "cell_type": "code",
   "execution_count": 116,
   "metadata": {},
   "outputs": [
    {
     "data": {
      "text/plain": [
       "0.4333498525363494"
      ]
     },
     "execution_count": 116,
     "metadata": {},
     "output_type": "execute_result"
    }
   ],
   "source": [
    "random.random()       # produces a random number between 0 to 1"
   ]
  },
  {
   "cell_type": "code",
   "execution_count": 117,
   "metadata": {},
   "outputs": [
    {
     "data": {
      "text/plain": [
       "9.586033809686"
      ]
     },
     "execution_count": 117,
     "metadata": {},
     "output_type": "execute_result"
    }
   ],
   "source": [
    "random.uniform(9,10)"
   ]
  },
  {
   "cell_type": "markdown",
   "metadata": {},
   "source": [
    "## asctime and sleep"
   ]
  },
  {
   "cell_type": "code",
   "execution_count": 118,
   "metadata": {},
   "outputs": [
    {
     "name": "stdout",
     "output_type": "stream",
     "text": [
      "Wed Jul 18 21:27:59 2018\n",
      "Sleeping 5 seconds ...\n",
      "Wed Jul 18 21:28:04 2018\n"
     ]
    }
   ],
   "source": [
    "import time\n",
    "print (time.asctime())\n",
    "print (\"Sleeping 5 seconds ...\")\n",
    "time.sleep(5)\n",
    "print (time.asctime())"
   ]
  },
  {
   "cell_type": "markdown",
   "metadata": {},
   "source": [
    "## Functions\n",
    "    - Why functions?\n",
    "      - When we write python code, we are adding one statement at a time\n",
    "      - When we look back we would realize that few lines of code here and there keeps repeating\n",
    "      - If we find a defect in the repeated code we need to make changes to several places\n",
    "      - In that processes we could add more defects :)\n",
    "      - Wont it be nice to organize the repeated code?\n",
    "      \n",
    "    - What is a function?\n",
    "      - A named sequence of statement(s)\n",
    "      - It takes zero or more input parameters\n",
    "      - It returns zero or more output values\n",
    "      - It makes code reusable and modular\n",
    "      - Once a function is defined, we need to call or invoke that function\n",
    "      \n",
    "![Function](images/Lecture-4.002.png)"
   ]
  },
  {
   "cell_type": "markdown",
   "metadata": {},
   "source": [
    "### Do Nothing Function\n",
    "\n",
    "![Function](images/Lecture-4.003.png)"
   ]
  },
  {
   "cell_type": "code",
   "execution_count": 24,
   "metadata": {
    "collapsed": true
   },
   "outputs": [],
   "source": [
    "def do_nothing_function():  # function definition\n",
    "    pass                    # null operation\n",
    "\n",
    "do_nothing_function()       # function is called"
   ]
  },
  {
   "cell_type": "markdown",
   "metadata": {},
   "source": [
    "### Greetings Function"
   ]
  },
  {
   "cell_type": "code",
   "execution_count": 101,
   "metadata": {},
   "outputs": [
    {
     "name": "stdout",
     "output_type": "stream",
     "text": [
      "Greetings!\n"
     ]
    }
   ],
   "source": [
    "def greetings():  # function definition\n",
    "    print(\"Greetings!\")\n",
    "\n",
    "greetings()       # function is called"
   ]
  },
  {
   "cell_type": "markdown",
   "metadata": {},
   "source": [
    "![Function](images/Lecture-4.004.png)\n",
    "### One Argument Function With no Return"
   ]
  },
  {
   "cell_type": "code",
   "execution_count": 102,
   "metadata": {},
   "outputs": [
    {
     "name": "stdout",
     "output_type": "stream",
     "text": [
      "Greetings!\n"
     ]
    }
   ],
   "source": [
    "def greetingsAgain(message):     # function definition\n",
    "    print(message)\n",
    "\n",
    "greetingsAgain(\"Greetings!\")       # function is called()"
   ]
  },
  {
   "cell_type": "markdown",
   "metadata": {},
   "source": [
    "![Function](images/Lecture-4.005.png)\n",
    "### One Argument Function which Returns None"
   ]
  },
  {
   "cell_type": "code",
   "execution_count": 103,
   "metadata": {},
   "outputs": [
    {
     "name": "stdout",
     "output_type": "stream",
     "text": [
      "Greetings!\n"
     ]
    },
    {
     "data": {
      "text/plain": [
       "NoneType"
      ]
     },
     "execution_count": 103,
     "metadata": {},
     "output_type": "execute_result"
    }
   ],
   "source": [
    "def greetingsReturnsNone(message):     # function definition\n",
    "    print(message)\n",
    "    return                             # returns None\n",
    "\n",
    "nothing = greetingsAgain(\"Greetings!\") # function is called()\n",
    "type(nothing)"
   ]
  },
  {
   "cell_type": "markdown",
   "metadata": {},
   "source": [
    "![Function](images/Lecture-4.006.png)\n",
    "### One Argument Function Which Returns an Integer"
   ]
  },
  {
   "cell_type": "code",
   "execution_count": 104,
   "metadata": {},
   "outputs": [
    {
     "name": "stdout",
     "output_type": "stream",
     "text": [
      "10 Times: 20\n"
     ]
    }
   ],
   "source": [
    "def multipyBy10(a):\n",
    "    return a*10\n",
    "\n",
    "TenTimes = multipyBy10(2)\n",
    "print (\"10 Times:\", TenTimes)"
   ]
  },
  {
   "cell_type": "markdown",
   "metadata": {},
   "source": [
    "![Function](images/Lecture-4.007.png)\n",
    "### Two Argument Function Which Returns Two Integers"
   ]
  },
  {
   "cell_type": "code",
   "execution_count": 100,
   "metadata": {},
   "outputs": [
    {
     "name": "stdout",
     "output_type": "stream",
     "text": [
      "Area 16 Perimeter 16\n"
     ]
    }
   ],
   "source": [
    "def areaPerimeter(length, width):\n",
    "    return length*width, 2*(length+width)\n",
    "\n",
    "length = 4\n",
    "width = 4\n",
    "area, perimeter = areaPerimeter(length, width)\n",
    "print (\"Area\", area, \"Perimeter\", perimeter)"
   ]
  },
  {
   "cell_type": "markdown",
   "metadata": {},
   "source": [
    "## Documenting a function\n",
    "-  Clear and concise documentation always helps\n",
    "-  The first line after the function **def** contains the function document\n",
    "-  Function document is a string\n",
    "-  String can be double or single or triple quoted\n",
    "-  How do you access a function document?\n",
    "   - functionName.\\__doc\\__"
   ]
  },
  {
   "cell_type": "code",
   "execution_count": 27,
   "metadata": {},
   "outputs": [
    {
     "name": "stdout",
     "output_type": "stream",
     "text": [
      " \n",
      "    Calculates area and perimeter of a rectangle or a square \n",
      "    It takes length and width as parameters\n",
      "    Returns area and perimeter\n",
      "    \n"
     ]
    }
   ],
   "source": [
    "def areaPerimeterDoc(length, width):\n",
    "    ''' \n",
    "    Calculates area and perimeter of a rectangle or a square \n",
    "    It takes length and width as parameters\n",
    "    Returns area and perimeter\n",
    "    '''\n",
    "    \n",
    "    return length*width, 2*(length+width)\n",
    "\n",
    "print (areaPerimeterDoc.__doc__)  # Accessing the function doc string"
   ]
  },
  {
   "cell_type": "markdown",
   "metadata": {},
   "source": [
    "## Default Argument\n",
    "- Argument defined at function **definition time**"
   ]
  },
  {
   "cell_type": "code",
   "execution_count": 3,
   "metadata": {},
   "outputs": [
    {
     "name": "stdout",
     "output_type": "stream",
     "text": [
      "Hello Everyone\n",
      "Hello World!\n"
     ]
    }
   ],
   "source": [
    "def defArgument(name=\"Everyone\"):\n",
    "    print (\"Hello\", name)\n",
    "\n",
    "defArgument()           # Using default argument \"Everyone\"\n",
    "defArgument(\"World!\")   # Overriding default argument"
   ]
  },
  {
   "cell_type": "markdown",
   "metadata": {},
   "source": [
    "## Global and Local Variables"
   ]
  },
  {
   "cell_type": "code",
   "execution_count": 9,
   "metadata": {
    "collapsed": true
   },
   "outputs": [
    {
     "ename": "NameError",
     "evalue": "name 'myLocal' is not defined",
     "output_type": "error",
     "traceback": [
      "\u001b[0;31m---------------------------------------------------------------------------\u001b[0m",
      "\u001b[0;31mNameError\u001b[0m                                 Traceback (most recent call last)",
      "\u001b[0;32m<ipython-input-9-568f22eb266e>\u001b[0m in \u001b[0;36m<module>\u001b[0;34m()\u001b[0m\n\u001b[1;32m      2\u001b[0m     \u001b[0mprint\u001b[0m \u001b[0;34m(\u001b[0m\u001b[0;34m\"local()::myLocal\"\u001b[0m\u001b[0;34m,\u001b[0m \u001b[0mmyLocal\u001b[0m\u001b[0;34m)\u001b[0m  \u001b[0;31m# myLocal is not defined.  NameError\u001b[0m\u001b[0;34m\u001b[0m\u001b[0m\n\u001b[1;32m      3\u001b[0m \u001b[0;34m\u001b[0m\u001b[0m\n\u001b[0;32m----> 4\u001b[0;31m \u001b[0mlocal\u001b[0m\u001b[0;34m(\u001b[0m\u001b[0;34m)\u001b[0m\u001b[0;34m\u001b[0m\u001b[0m\n\u001b[0m\u001b[1;32m      5\u001b[0m \u001b[0;34m\u001b[0m\u001b[0m\n",
      "\u001b[0;32m<ipython-input-9-568f22eb266e>\u001b[0m in \u001b[0;36mlocal\u001b[0;34m()\u001b[0m\n\u001b[1;32m      1\u001b[0m \u001b[0;32mdef\u001b[0m \u001b[0mlocal\u001b[0m\u001b[0;34m(\u001b[0m\u001b[0;34m)\u001b[0m\u001b[0;34m:\u001b[0m\u001b[0;34m\u001b[0m\u001b[0m\n\u001b[0;32m----> 2\u001b[0;31m     \u001b[0mprint\u001b[0m \u001b[0;34m(\u001b[0m\u001b[0;34m\"local()::myLocal\"\u001b[0m\u001b[0;34m,\u001b[0m \u001b[0mmyLocal\u001b[0m\u001b[0;34m)\u001b[0m  \u001b[0;31m# myLocal is not defined.  NameError\u001b[0m\u001b[0;34m\u001b[0m\u001b[0m\n\u001b[0m\u001b[1;32m      3\u001b[0m \u001b[0;34m\u001b[0m\u001b[0m\n\u001b[1;32m      4\u001b[0m \u001b[0mlocal\u001b[0m\u001b[0;34m(\u001b[0m\u001b[0;34m)\u001b[0m\u001b[0;34m\u001b[0m\u001b[0m\n\u001b[1;32m      5\u001b[0m \u001b[0;34m\u001b[0m\u001b[0m\n",
      "\u001b[0;31mNameError\u001b[0m: name 'myLocal' is not defined"
     ]
    }
   ],
   "source": [
    "def local():\n",
    "    print (\"local()::myLocal\", myLocal)  # myLocal is not defined.  NameError\n",
    "\n",
    "local()\n",
    "    "
   ]
  },
  {
   "cell_type": "code",
   "execution_count": 10,
   "metadata": {},
   "outputs": [
    {
     "name": "stdout",
     "output_type": "stream",
     "text": [
      "local()::myLocal 10\n"
     ]
    }
   ],
   "source": [
    "def local():\n",
    "    print(\"local()::myLocal\", myLocal)  # myLocal is not defined in this function but defined elsewhere\n",
    "\n",
    "myLocal = 10\n",
    "local()\n",
    "    "
   ]
  },
  {
   "cell_type": "code",
   "execution_count": 5,
   "metadata": {},
   "outputs": [
    {
     "name": "stdout",
     "output_type": "stream",
     "text": [
      "local()::myLocal 100\n",
      "myLocal: 10\n"
     ]
    }
   ],
   "source": [
    "def local():\n",
    "    myLocal = 100                      # a different myLocal variable, local to function\n",
    "    print(\"local()::myLocal\", myLocal)\n",
    "\n",
    "myLocal = 10\n",
    "local()\n",
    "print(\"myLocal:\", myLocal)"
   ]
  },
  {
   "cell_type": "code",
   "execution_count": 13,
   "metadata": {},
   "outputs": [
    {
     "name": "stdout",
     "output_type": "stream",
     "text": [
      "myLocal 1: 10\n",
      "local()::myLocal 100\n",
      "myLocal 2: 100\n"
     ]
    }
   ],
   "source": [
    "def local():\n",
    "    global myLocal\n",
    "    myLocal = 100\n",
    "    print(\"local()::myLocal\", myLocal)\n",
    "\n",
    "myLocal = 10\n",
    "print(\"myLocal 1:\", myLocal)\n",
    "local()\n",
    "print(\"myLocal 2:\", myLocal)"
   ]
  },
  {
   "cell_type": "markdown",
   "metadata": {},
   "source": [
    "## Function with immutable parameters"
   ]
  },
  {
   "cell_type": "code",
   "execution_count": 139,
   "metadata": {},
   "outputs": [
    {
     "name": "stdout",
     "output_type": "stream",
     "text": [
      "xx: 1\n",
      "In Local Before, x:  1\n",
      "In Local After,  x:  2\n",
      "xx: 1\n"
     ]
    }
   ],
   "source": [
    "## Changing function arguments inside a function\n",
    "def local(x):\n",
    "    print(\"In Local Before, x: \", x)\n",
    "    x +=1 \n",
    "    print(\"In Local After,  x: \", x)\n",
    "    \n",
    "xx=1\n",
    "print(\"xx:\", xx)\n",
    "local(xx)\n",
    "print(\"xx:\", xx)"
   ]
  },
  {
   "cell_type": "markdown",
   "metadata": {},
   "source": [
    "## Postional Arguments"
   ]
  },
  {
   "cell_type": "code",
   "execution_count": 147,
   "metadata": {
    "scrolled": true
   },
   "outputs": [
    {
     "name": "stdout",
     "output_type": "stream",
     "text": [
      "first: 1 second: 2 third: 3\n"
     ]
    }
   ],
   "source": [
    "def keyword_arguments(first, second, third):\n",
    "    print(\"first: {} second: {} third: {}\".format(first, second,third))\n",
    "keyword_arguments(1,2,3)"
   ]
  },
  {
   "cell_type": "markdown",
   "metadata": {},
   "source": [
    "## Keyword Arguments"
   ]
  },
  {
   "cell_type": "code",
   "execution_count": 148,
   "metadata": {},
   "outputs": [
    {
     "name": "stdout",
     "output_type": "stream",
     "text": [
      "first: 1 second: 2 third: 3\n"
     ]
    }
   ],
   "source": [
    "keyword_arguments(third=3, second=2, first=1)"
   ]
  },
  {
   "cell_type": "markdown",
   "metadata": {},
   "source": [
    "## Variable Arguments"
   ]
  },
  {
   "cell_type": "code",
   "execution_count": null,
   "metadata": {
    "collapsed": true
   },
   "outputs": [],
   "source": [
    "def variable_arguments(first_arg, *args):\n",
    "    print(\"First argument:\", first_arg)\n",
    "    for variable_args in args:\n",
    "        print(\"variable arguments:\", variable_args)"
   ]
  },
  {
   "cell_type": "code",
   "execution_count": 120,
   "metadata": {},
   "outputs": [
    {
     "name": "stdout",
     "output_type": "stream",
     "text": [
      "First argument: 1\n",
      "variable arguments: two\n",
      "variable arguments: 3\n"
     ]
    }
   ],
   "source": [
    "variable_arguments(1, \"two\", 3)"
   ]
  },
  {
   "cell_type": "code",
   "execution_count": 121,
   "metadata": {},
   "outputs": [
    {
     "name": "stdout",
     "output_type": "stream",
     "text": [
      "First argument: 1\n"
     ]
    }
   ],
   "source": [
    "variable_arguments(1)"
   ]
  },
  {
   "cell_type": "code",
   "execution_count": 123,
   "metadata": {
    "collapsed": true
   },
   "outputs": [],
   "source": [
    "def variable_arguments(*args):\n",
    "    for variable_args in args:\n",
    "        print(\"variable arguments:\", variable_args)"
   ]
  },
  {
   "cell_type": "code",
   "execution_count": 124,
   "metadata": {},
   "outputs": [
    {
     "name": "stdout",
     "output_type": "stream",
     "text": [
      "variable arguments: 1\n",
      "variable arguments: two\n",
      "variable arguments: 3\n"
     ]
    }
   ],
   "source": [
    "variable_arguments(1, \"two\", 3)"
   ]
  },
  {
   "cell_type": "code",
   "execution_count": 125,
   "metadata": {},
   "outputs": [],
   "source": [
    "variable_arguments()"
   ]
  },
  {
   "cell_type": "code",
   "execution_count": 128,
   "metadata": {},
   "outputs": [],
   "source": [
    "def variable_arguments(*args, lastArg):\n",
    "    pass\n",
    "variable_arguments(1, \"two\", lastArg=3)"
   ]
  },
  {
   "cell_type": "markdown",
   "metadata": {},
   "source": [
    "## Variable Keyworded Arguments"
   ]
  },
  {
   "cell_type": "code",
   "execution_count": 8,
   "metadata": {},
   "outputs": [
    {
     "name": "stdout",
     "output_type": "stream",
     "text": [
      "First argument: 1\n",
      "Variable keyworded arg: myarg2: two\n",
      "Variable keyworded arg: myarg3: 3\n",
      "First argument: 1\n",
      "Variable keyworded arg: myarg2: two\n",
      "Variable keyworded arg: myarg3: 3\n"
     ]
    }
   ],
   "source": [
    "def variable_keyworded_arguments(first_arg, **kwargs):\n",
    "    print(\"First argument:\", first_arg)\n",
    "    for key in kwargs:\n",
    "        print(\"Variable keyworded arg: %s: %s\" % (key, kwargs[key]))\n",
    "\n",
    "variable_keyworded_arguments(first_arg=1, myarg2=\"two\", myarg3=3)\n",
    "variable_keyworded_arguments(1, myarg2=\"two\", myarg3=3)\n"
   ]
  },
  {
   "cell_type": "markdown",
   "metadata": {},
   "source": [
    "## Experimentation\n",
    "-  define a function and print the function name\n",
    "-  provide parameters to a function which takes no arguments\n",
    "-  provide less parameter than the number of function arguments\n",
    "-  assign function return to less number of variables\n",
    "-  assign function name to a new variable\n",
    "-  reuse the same function name to different function def"
   ]
  },
  {
   "cell_type": "code",
   "execution_count": 14,
   "metadata": {},
   "outputs": [
    {
     "name": "stdout",
     "output_type": "stream",
     "text": [
      "<function foo at 0x7f815041b6a8>\n"
     ]
    }
   ],
   "source": [
    "def foo():\n",
    "    pass\n",
    "print(foo)   #printing the name of a function"
   ]
  },
  {
   "cell_type": "code",
   "execution_count": 15,
   "metadata": {},
   "outputs": [
    {
     "ename": "TypeError",
     "evalue": "foo() takes 0 positional arguments but 1 was given",
     "output_type": "error",
     "traceback": [
      "\u001b[0;31m---------------------------------------------------------------------------\u001b[0m",
      "\u001b[0;31mTypeError\u001b[0m                                 Traceback (most recent call last)",
      "\u001b[0;32m<ipython-input-15-25d2aaaf79e4>\u001b[0m in \u001b[0;36m<module>\u001b[0;34m()\u001b[0m\n\u001b[1;32m      1\u001b[0m \u001b[0;32mdef\u001b[0m \u001b[0mfoo\u001b[0m\u001b[0;34m(\u001b[0m\u001b[0;34m)\u001b[0m\u001b[0;34m:\u001b[0m\u001b[0;34m\u001b[0m\u001b[0m\n\u001b[1;32m      2\u001b[0m     \u001b[0;32mpass\u001b[0m\u001b[0;34m\u001b[0m\u001b[0m\n\u001b[0;32m----> 3\u001b[0;31m \u001b[0mfoo\u001b[0m\u001b[0;34m(\u001b[0m\u001b[0;36m1\u001b[0m\u001b[0;34m)\u001b[0m  \u001b[0;31m# passing an argument to function which accepts no arguments\u001b[0m\u001b[0;34m\u001b[0m\u001b[0m\n\u001b[0m",
      "\u001b[0;31mTypeError\u001b[0m: foo() takes 0 positional arguments but 1 was given"
     ]
    }
   ],
   "source": [
    "def foo():\n",
    "    pass\n",
    "foo(1)  # passing an argument to function which accepts no arguments"
   ]
  },
  {
   "cell_type": "code",
   "execution_count": 16,
   "metadata": {},
   "outputs": [
    {
     "ename": "TypeError",
     "evalue": "foo() missing 1 required positional argument: 'b'",
     "output_type": "error",
     "traceback": [
      "\u001b[0;31m---------------------------------------------------------------------------\u001b[0m",
      "\u001b[0;31mTypeError\u001b[0m                                 Traceback (most recent call last)",
      "\u001b[0;32m<ipython-input-16-effe1d246620>\u001b[0m in \u001b[0;36m<module>\u001b[0;34m()\u001b[0m\n\u001b[1;32m      1\u001b[0m \u001b[0;32mdef\u001b[0m \u001b[0mfoo\u001b[0m\u001b[0;34m(\u001b[0m\u001b[0ma\u001b[0m\u001b[0;34m,\u001b[0m\u001b[0mb\u001b[0m\u001b[0;34m)\u001b[0m\u001b[0;34m:\u001b[0m\u001b[0;34m\u001b[0m\u001b[0m\n\u001b[1;32m      2\u001b[0m     \u001b[0;32mpass\u001b[0m\u001b[0;34m\u001b[0m\u001b[0m\n\u001b[0;32m----> 3\u001b[0;31m \u001b[0mfoo\u001b[0m\u001b[0;34m(\u001b[0m\u001b[0;36m1\u001b[0m\u001b[0;34m)\u001b[0m   \u001b[0;31m# Function expects 2 arguments,  only one is being passed\u001b[0m\u001b[0;34m\u001b[0m\u001b[0m\n\u001b[0m",
      "\u001b[0;31mTypeError\u001b[0m: foo() missing 1 required positional argument: 'b'"
     ]
    }
   ],
   "source": [
    "def foo(a,b):\n",
    "    pass\n",
    "foo(1)   # Function expects 2 arguments,  only one is being passed"
   ]
  },
  {
   "cell_type": "code",
   "execution_count": 18,
   "metadata": {},
   "outputs": [
    {
     "data": {
      "text/plain": [
       "(1, 2)"
      ]
     },
     "execution_count": 18,
     "metadata": {},
     "output_type": "execute_result"
    }
   ],
   "source": [
    "def foo():\n",
    "    return 1,2\n",
    "a = foo()     # Function returns 2 arguments\n",
    "a"
   ]
  },
  {
   "cell_type": "code",
   "execution_count": 19,
   "metadata": {},
   "outputs": [
    {
     "ename": "ValueError",
     "evalue": "not enough values to unpack (expected 3, got 2)",
     "output_type": "error",
     "traceback": [
      "\u001b[0;31m---------------------------------------------------------------------------\u001b[0m",
      "\u001b[0;31mValueError\u001b[0m                                Traceback (most recent call last)",
      "\u001b[0;32m<ipython-input-19-92e99a00d5b5>\u001b[0m in \u001b[0;36m<module>\u001b[0;34m()\u001b[0m\n\u001b[1;32m      1\u001b[0m \u001b[0;32mdef\u001b[0m \u001b[0mfoo\u001b[0m\u001b[0;34m(\u001b[0m\u001b[0;34m)\u001b[0m\u001b[0;34m:\u001b[0m\u001b[0;34m\u001b[0m\u001b[0m\n\u001b[1;32m      2\u001b[0m     \u001b[0;32mreturn\u001b[0m \u001b[0;36m1\u001b[0m\u001b[0;34m,\u001b[0m\u001b[0;36m2\u001b[0m\u001b[0;34m\u001b[0m\u001b[0m\n\u001b[0;32m----> 3\u001b[0;31m \u001b[0ma\u001b[0m\u001b[0;34m,\u001b[0m\u001b[0mb\u001b[0m\u001b[0;34m,\u001b[0m\u001b[0mc\u001b[0m \u001b[0;34m=\u001b[0m \u001b[0mfoo\u001b[0m\u001b[0;34m(\u001b[0m\u001b[0;34m)\u001b[0m  \u001b[0;31m# expecting only 2 return values\u001b[0m\u001b[0;34m\u001b[0m\u001b[0m\n\u001b[0m",
      "\u001b[0;31mValueError\u001b[0m: not enough values to unpack (expected 3, got 2)"
     ]
    }
   ],
   "source": [
    "def foo():\n",
    "    return 1,2\n",
    "a,b,c = foo()  # expecting only 2 return values"
   ]
  },
  {
   "cell_type": "code",
   "execution_count": 21,
   "metadata": {},
   "outputs": [
    {
     "name": "stdout",
     "output_type": "stream",
     "text": [
      "In foo\n"
     ]
    }
   ],
   "source": [
    "def foo():\n",
    "    print(\"In foo\")\n",
    "newFoo = foo          # assigning a new name to foo() function\n",
    "newFoo()"
   ]
  },
  {
   "cell_type": "code",
   "execution_count": 23,
   "metadata": {},
   "outputs": [
    {
     "name": "stdout",
     "output_type": "stream",
     "text": [
      "In Foo\n",
      "In Different Foo\n"
     ]
    }
   ],
   "source": [
    "def foo():\n",
    "    print(\"In Foo\")\n",
    "\n",
    "foo()\n",
    "\n",
    "def foo():\n",
    "    print(\"In Different Foo\")\n",
    "\n",
    "foo()"
   ]
  },
  {
   "cell_type": "markdown",
   "metadata": {},
   "source": [
    "## Recursion\n",
    "- What happens when a function calls itself?\n",
    "- Could make solving some problems easier\n",
    "- But hard to understand and debug\n",
    "- **Need a terminating case else will lead to infinite calls**\n",
    "    - maximum recursion depth exceeded"
   ]
  },
  {
   "cell_type": "code",
   "execution_count": 129,
   "metadata": {
    "collapsed": true
   },
   "outputs": [
    {
     "name": "stdout",
     "output_type": "stream",
     "text": [
      "Going to call recursion(1)...\n",
      "Going to call recursion(2)...\n",
      "Going to call recursion(3)...\n",
      "Going to call recursion(4)...\n",
      "Going to call recursion(5)...\n",
      "Going to call recursion(6)...\n",
      "Going to call recursion(7)...\n",
      "Going to call recursion(8)...\n",
      "Going to call recursion(9)...\n",
      "Going to call recursion(10)...\n",
      "Going to call recursion(11)...\n",
      "Going to call recursion(12)...\n",
      "Going to call recursion(13)...\n",
      "Going to call recursion(14)...\n",
      "Going to call recursion(15)...\n",
      "Going to call recursion(16)...\n",
      "Going to call recursion(17)...\n",
      "Going to call recursion(18)...\n",
      "Going to call recursion(19)...\n",
      "Going to call recursion(20)...\n",
      "Going to call recursion(21)...\n",
      "Going to call recursion(22)...\n",
      "Going to call recursion(23)...\n",
      "Going to call recursion(24)...\n",
      "Going to call recursion(25)...\n",
      "Going to call recursion(26)...\n",
      "Going to call recursion(27)...\n",
      "Going to call recursion(28)...\n",
      "Going to call recursion(29)...\n",
      "Going to call recursion(30)...\n",
      "Going to call recursion(31)...\n",
      "Going to call recursion(32)...\n",
      "Going to call recursion(33)...\n",
      "Going to call recursion(34)...\n",
      "Going to call recursion(35)...\n",
      "Going to call recursion(36)...\n",
      "Going to call recursion(37)...\n",
      "Going to call recursion(38)...\n",
      "Going to call recursion(39)...\n",
      "Going to call recursion(40)...\n",
      "Going to call recursion(41)...\n",
      "Going to call recursion(42)...\n",
      "Going to call recursion(43)...\n",
      "Going to call recursion(44)...\n",
      "Going to call recursion(45)...\n",
      "Going to call recursion(46)...\n",
      "Going to call recursion(47)...\n",
      "Going to call recursion(48)...\n",
      "Going to call recursion(49)...\n",
      "Going to call recursion(50)...\n",
      "Going to call recursion(51)...\n",
      "Going to call recursion(52)...\n",
      "Going to call recursion(53)...\n",
      "Going to call recursion(54)...\n",
      "Going to call recursion(55)...\n",
      "Going to call recursion(56)...\n",
      "Going to call recursion(57)...\n",
      "Going to call recursion(58)...\n",
      "Going to call recursion(59)...\n",
      "Going to call recursion(60)...\n",
      "Going to call recursion(61)...\n",
      "Going to call recursion(62)...\n",
      "Going to call recursion(63)...\n",
      "Going to call recursion(64)...\n",
      "Going to call recursion(65)...\n",
      "Going to call recursion(66)...\n",
      "Going to call recursion(67)...\n",
      "Going to call recursion(68)...\n",
      "Going to call recursion(69)...\n",
      "Going to call recursion(70)...\n",
      "Going to call recursion(71)...\n",
      "Going to call recursion(72)...\n",
      "Going to call recursion(73)...\n",
      "Going to call recursion(74)...\n",
      "Going to call recursion(75)...\n",
      "Going to call recursion(76)...\n",
      "Going to call recursion(77)...\n",
      "Going to call recursion(78)...\n",
      "Going to call recursion(79)...\n",
      "Going to call recursion(80)...\n",
      "Going to call recursion(81)...\n",
      "Going to call recursion(82)...\n",
      "Going to call recursion(83)...\n",
      "Going to call recursion(84)...\n",
      "Going to call recursion(85)...\n",
      "Going to call recursion(86)...\n",
      "Going to call recursion(87)...\n",
      "Going to call recursion(88)...\n",
      "Going to call recursion(89)...\n",
      "Going to call recursion(90)...\n",
      "Going to call recursion(91)...\n",
      "Going to call recursion(92)...\n",
      "Going to call recursion(93)...\n",
      "Going to call recursion(94)...\n",
      "Going to call recursion(95)...\n",
      "Going to call recursion(96)...\n",
      "Going to call recursion(97)...\n",
      "Going to call recursion(98)...\n",
      "Going to call recursion(99)...\n",
      "Going to call recursion(100)...\n",
      "Going to call recursion(101)...\n",
      "Going to call recursion(102)...\n",
      "Going to call recursion(103)...\n",
      "Going to call recursion(104)...\n",
      "Going to call recursion(105)...\n",
      "Going to call recursion(106)...\n",
      "Going to call recursion(107)...\n",
      "Going to call recursion(108)...\n",
      "Going to call recursion(109)...\n",
      "Going to call recursion(110)...\n",
      "Going to call recursion(111)...\n",
      "Going to call recursion(112)...\n",
      "Going to call recursion(113)...\n",
      "Going to call recursion(114)...\n",
      "Going to call recursion(115)...\n",
      "Going to call recursion(116)...\n",
      "Going to call recursion(117)...\n",
      "Going to call recursion(118)...\n",
      "Going to call recursion(119)...\n",
      "Going to call recursion(120)...\n",
      "Going to call recursion(121)...\n",
      "Going to call recursion(122)...\n",
      "Going to call recursion(123)...\n",
      "Going to call recursion(124)...\n",
      "Going to call recursion(125)...\n",
      "Going to call recursion(126)...\n",
      "Going to call recursion(127)...\n",
      "Going to call recursion(128)...\n",
      "Going to call recursion(129)...\n",
      "Going to call recursion(130)...\n",
      "Going to call recursion(131)...\n",
      "Going to call recursion(132)...\n",
      "Going to call recursion(133)...\n",
      "Going to call recursion(134)...\n",
      "Going to call recursion(135)...\n",
      "Going to call recursion(136)...\n",
      "Going to call recursion(137)...\n",
      "Going to call recursion(138)...\n",
      "Going to call recursion(139)...\n",
      "Going to call recursion(140)...\n",
      "Going to call recursion(141)...\n",
      "Going to call recursion(142)...\n",
      "Going to call recursion(143)...\n",
      "Going to call recursion(144)...\n",
      "Going to call recursion(145)...\n",
      "Going to call recursion(146)...\n",
      "Going to call recursion(147)...\n",
      "Going to call recursion(148)...\n",
      "Going to call recursion(149)...\n",
      "Going to call recursion(150)...\n",
      "Going to call recursion(151)...\n",
      "Going to call recursion(152)...\n",
      "Going to call recursion(153)...\n",
      "Going to call recursion(154)...\n",
      "Going to call recursion(155)...\n",
      "Going to call recursion(156)...\n",
      "Going to call recursion(157)...\n",
      "Going to call recursion(158)...\n",
      "Going to call recursion(159)...\n",
      "Going to call recursion(160)...\n",
      "Going to call recursion(161)...\n",
      "Going to call recursion(162)...\n",
      "Going to call recursion(163)...\n",
      "Going to call recursion(164)...\n",
      "Going to call recursion(165)...\n",
      "Going to call recursion(166)...\n",
      "Going to call recursion(167)...\n",
      "Going to call recursion(168)...\n",
      "Going to call recursion(169)...\n",
      "Going to call recursion(170)...\n",
      "Going to call recursion(171)...\n",
      "Going to call recursion(172)...\n",
      "Going to call recursion(173)...\n",
      "Going to call recursion(174)...\n",
      "Going to call recursion(175)...\n",
      "Going to call recursion(176)...\n",
      "Going to call recursion(177)...\n",
      "Going to call recursion(178)...\n",
      "Going to call recursion(179)...\n",
      "Going to call recursion(180)...\n",
      "Going to call recursion(181)...\n",
      "Going to call recursion(182)...\n",
      "Going to call recursion(183)...\n",
      "Going to call recursion(184)...\n",
      "Going to call recursion(185)...\n",
      "Going to call recursion(186)...\n",
      "Going to call recursion(187)...\n",
      "Going to call recursion(188)...\n",
      "Going to call recursion(189)...\n",
      "Going to call recursion(190)...\n",
      "Going to call recursion(191)...\n",
      "Going to call recursion(192)...\n",
      "Going to call recursion(193)...\n",
      "Going to call recursion(194)...\n",
      "Going to call recursion(195)...\n",
      "Going to call recursion(196)...\n",
      "Going to call recursion(197)...\n",
      "Going to call recursion(198)...\n",
      "Going to call recursion(199)...\n",
      "Going to call recursion(200)...\n",
      "Going to call recursion(201)...\n",
      "Going to call recursion(202)...\n",
      "Going to call recursion(203)...\n",
      "Going to call recursion(204)...\n",
      "Going to call recursion(205)...\n",
      "Going to call recursion(206)...\n",
      "Going to call recursion(207)...\n",
      "Going to call recursion(208)...\n",
      "Going to call recursion(209)...\n",
      "Going to call recursion(210)...\n",
      "Going to call recursion(211)...\n",
      "Going to call recursion(212)...\n",
      "Going to call recursion(213)...\n",
      "Going to call recursion(214)...\n",
      "Going to call recursion(215)...\n",
      "Going to call recursion(216)...\n",
      "Going to call recursion(217)...\n",
      "Going to call recursion(218)...\n",
      "Going to call recursion(219)...\n",
      "Going to call recursion(220)...\n",
      "Going to call recursion(221)...\n",
      "Going to call recursion(222)...\n",
      "Going to call recursion(223)...\n",
      "Going to call recursion(224)...\n",
      "Going to call recursion(225)...\n",
      "Going to call recursion(226)...\n",
      "Going to call recursion(227)...\n",
      "Going to call recursion(228)...\n",
      "Going to call recursion(229)...\n",
      "Going to call recursion(230)...\n",
      "Going to call recursion(231)...\n",
      "Going to call recursion(232)...\n",
      "Going to call recursion(233)...\n",
      "Going to call recursion(234)...\n",
      "Going to call recursion(235)...\n",
      "Going to call recursion(236)...\n",
      "Going to call recursion(237)...\n",
      "Going to call recursion(238)...\n",
      "Going to call recursion(239)...\n",
      "Going to call recursion(240)...\n",
      "Going to call recursion(241)...\n",
      "Going to call recursion(242)...\n",
      "Going to call recursion(243)...\n",
      "Going to call recursion(244)...\n",
      "Going to call recursion(245)...\n",
      "Going to call recursion(246)...\n",
      "Going to call recursion(247)...\n",
      "Going to call recursion(248)...\n",
      "Going to call recursion(249)...\n",
      "Going to call recursion(250)...\n",
      "Going to call recursion(251)...\n",
      "Going to call recursion(252)...\n",
      "Going to call recursion(253)...\n",
      "Going to call recursion(254)...\n",
      "Going to call recursion(255)...\n",
      "Going to call recursion(256)...\n",
      "Going to call recursion(257)...\n",
      "Going to call recursion(258)...\n",
      "Going to call recursion(259)...\n",
      "Going to call recursion(260)...\n",
      "Going to call recursion(261)...\n",
      "Going to call recursion(262)...\n",
      "Going to call recursion(263)...\n",
      "Going to call recursion(264)...\n",
      "Going to call recursion(265)...\n",
      "Going to call recursion(266)...\n",
      "Going to call recursion(267)...\n",
      "Going to call recursion(268)...\n",
      "Going to call recursion(269)...\n",
      "Going to call recursion(270)...\n",
      "Going to call recursion(271)...\n",
      "Going to call recursion(272)...\n",
      "Going to call recursion(273)...\n",
      "Going to call recursion(274)...\n",
      "Going to call recursion(275)...\n",
      "Going to call recursion(276)...\n",
      "Going to call recursion(277)...\n",
      "Going to call recursion(278)...\n",
      "Going to call recursion(279)...\n",
      "Going to call recursion(280)...\n",
      "Going to call recursion(281)...\n",
      "Going to call recursion(282)...\n",
      "Going to call recursion(283)...\n",
      "Going to call recursion(284)...\n",
      "Going to call recursion(285)...\n",
      "Going to call recursion(286)...\n",
      "Going to call recursion(287)...\n",
      "Going to call recursion(288)...\n",
      "Going to call recursion(289)...\n",
      "Going to call recursion(290)...\n",
      "Going to call recursion(291)...\n",
      "Going to call recursion(292)...\n",
      "Going to call recursion(293)...\n",
      "Going to call recursion(294)...\n",
      "Going to call recursion(295)...\n",
      "Going to call recursion(296)...\n",
      "Going to call recursion(297)...\n",
      "Going to call recursion(298)...\n",
      "Going to call recursion(299)...\n",
      "Going to call recursion(300)...\n",
      "Going to call recursion(301)...\n",
      "Going to call recursion(302)...\n",
      "Going to call recursion(303)...\n",
      "Going to call recursion(304)...\n",
      "Going to call recursion(305)...\n",
      "Going to call recursion(306)...\n",
      "Going to call recursion(307)...\n",
      "Going to call recursion(308)...\n",
      "Going to call recursion(309)...\n",
      "Going to call recursion(310)...\n",
      "Going to call recursion(311)...\n",
      "Going to call recursion(312)...\n",
      "Going to call recursion(313)...\n",
      "Going to call recursion(314)...\n",
      "Going to call recursion(315)...\n",
      "Going to call recursion(316)...\n",
      "Going to call recursion(317)...\n",
      "Going to call recursion(318)...\n",
      "Going to call recursion(319)...\n",
      "Going to call recursion(320)...\n",
      "Going to call recursion(321)...\n",
      "Going to call recursion(322)...\n",
      "Going to call recursion(323)...\n",
      "Going to call recursion(324)...\n",
      "Going to call recursion(325)...\n",
      "Going to call recursion(326)...\n",
      "Going to call recursion(327)...\n",
      "Going to call recursion(328)...\n",
      "Going to call recursion(329)...\n",
      "Going to call recursion(330)...\n",
      "Going to call recursion(331)...\n",
      "Going to call recursion(332)...\n",
      "Going to call recursion(333)...\n",
      "Going to call recursion(334)...\n",
      "Going to call recursion(335)...\n",
      "Going to call recursion(336)...\n",
      "Going to call recursion(337)...\n",
      "Going to call recursion(338)...\n",
      "Going to call recursion(339)...\n",
      "Going to call recursion(340)...\n",
      "Going to call recursion(341)...\n",
      "Going to call recursion(342)...\n",
      "Going to call recursion(343)...\n",
      "Going to call recursion(344)...\n",
      "Going to call recursion(345)...\n",
      "Going to call recursion(346)...\n",
      "Going to call recursion(347)...\n",
      "Going to call recursion(348)...\n",
      "Going to call recursion(349)...\n",
      "Going to call recursion(350)...\n",
      "Going to call recursion(351)...\n",
      "Going to call recursion(352)...\n",
      "Going to call recursion(353)...\n",
      "Going to call recursion(354)...\n",
      "Going to call recursion(355)...\n",
      "Going to call recursion(356)...\n",
      "Going to call recursion(357)...\n",
      "Going to call recursion(358)...\n",
      "Going to call recursion(359)...\n",
      "Going to call recursion(360)...\n",
      "Going to call recursion(361)...\n",
      "Going to call recursion(362)...\n",
      "Going to call recursion(363)...\n",
      "Going to call recursion(364)...\n",
      "Going to call recursion(365)...\n",
      "Going to call recursion(366)...\n",
      "Going to call recursion(367)...\n",
      "Going to call recursion(368)...\n",
      "Going to call recursion(369)...\n",
      "Going to call recursion(370)...\n",
      "Going to call recursion(371)...\n",
      "Going to call recursion(372)...\n",
      "Going to call recursion(373)...\n",
      "Going to call recursion(374)...\n",
      "Going to call recursion(375)...\n",
      "Going to call recursion(376)...\n",
      "Going to call recursion(377)...\n",
      "Going to call recursion(378)...\n",
      "Going to call recursion(379)...\n",
      "Going to call recursion(380)...\n",
      "Going to call recursion(381)...\n",
      "Going to call recursion(382)...\n",
      "Going to call recursion(383)...\n",
      "Going to call recursion(384)...\n",
      "Going to call recursion(385)...\n",
      "Going to call recursion(386)...\n",
      "Going to call recursion(387)...\n",
      "Going to call recursion(388)...\n",
      "Going to call recursion(389)...\n",
      "Going to call recursion(390)...\n",
      "Going to call recursion(391)...\n",
      "Going to call recursion(392)...\n",
      "Going to call recursion(393)...\n",
      "Going to call recursion(394)...\n",
      "Going to call recursion(395)...\n",
      "Going to call recursion(396)...\n",
      "Going to call recursion(397)...\n",
      "Going to call recursion(398)...\n",
      "Going to call recursion(399)...\n",
      "Going to call recursion(400)...\n",
      "Going to call recursion(401)...\n",
      "Going to call recursion(402)...\n",
      "Going to call recursion(403)...\n",
      "Going to call recursion(404)...\n",
      "Going to call recursion(405)...\n",
      "Going to call recursion(406)...\n",
      "Going to call recursion(407)...\n",
      "Going to call recursion(408)...\n",
      "Going to call recursion(409)...\n",
      "Going to call recursion(410)...\n",
      "Going to call recursion(411)...\n",
      "Going to call recursion(412)...\n",
      "Going to call recursion(413)...\n",
      "Going to call recursion(414)...\n",
      "Going to call recursion(415)...\n",
      "Going to call recursion(416)...\n",
      "Going to call recursion(417)...\n",
      "Going to call recursion(418)...\n",
      "Going to call recursion(419)...\n",
      "Going to call recursion(420)...\n",
      "Going to call recursion(421)...\n",
      "Going to call recursion(422)...\n",
      "Going to call recursion(423)...\n",
      "Going to call recursion(424)...\n",
      "Going to call recursion(425)...\n",
      "Going to call recursion(426)...\n",
      "Going to call recursion(427)...\n",
      "Going to call recursion(428)...\n",
      "Going to call recursion(429)...\n",
      "Going to call recursion(430)...\n",
      "Going to call recursion(431)...\n",
      "Going to call recursion(432)...\n",
      "Going to call recursion(433)...\n",
      "Going to call recursion(434)...\n",
      "Going to call recursion(435)...\n",
      "Going to call recursion(436)...\n",
      "Going to call recursion(437)...\n",
      "Going to call recursion(438)...\n",
      "Going to call recursion(439)...\n",
      "Going to call recursion(440)...\n",
      "Going to call recursion(441)...\n",
      "Going to call recursion(442)...\n",
      "Going to call recursion(443)...\n",
      "Going to call recursion(444)...\n",
      "Going to call recursion(445)...\n",
      "Going to call recursion(446)...\n",
      "Going to call recursion(447)...\n",
      "Going to call recursion(448)...\n",
      "Going to call recursion(449)...\n",
      "Going to call recursion(450)...\n",
      "Going to call recursion(451)...\n",
      "Going to call recursion(452)...\n",
      "Going to call recursion(453)...\n",
      "Going to call recursion(454)...\n",
      "Going to call recursion(455)...\n",
      "Going to call recursion(456)...\n",
      "Going to call recursion(457)...\n",
      "Going to call recursion(458)...\n",
      "Going to call recursion(459)...\n",
      "Going to call recursion(460)...\n",
      "Going to call recursion(461)...\n",
      "Going to call recursion(462)...\n",
      "Going to call recursion(463)...\n",
      "Going to call recursion(464)...\n",
      "Going to call recursion(465)...\n",
      "Going to call recursion(466)...\n",
      "Going to call recursion(467)...\n",
      "Going to call recursion(468)...\n",
      "Going to call recursion(469)...\n",
      "Going to call recursion(470)...\n",
      "Going to call recursion(471)...\n",
      "Going to call recursion(472)...\n",
      "Going to call recursion(473)...\n",
      "Going to call recursion(474)...\n",
      "Going to call recursion(475)...\n",
      "Going to call recursion(476)...\n",
      "Going to call recursion(477)...\n",
      "Going to call recursion(478)...\n",
      "Going to call recursion(479)...\n",
      "Going to call recursion(480)...\n",
      "Going to call recursion(481)...\n",
      "Going to call recursion(482)...\n",
      "Going to call recursion(483)...\n",
      "Going to call recursion(484)...\n",
      "Going to call recursion(485)...\n",
      "Going to call recursion(486)...\n",
      "Going to call recursion(487)...\n",
      "Going to call recursion(488)...\n",
      "Going to call recursion(489)...\n",
      "Going to call recursion(490)...\n",
      "Going to call recursion(491)...\n",
      "Going to call recursion(492)...\n",
      "Going to call recursion(493)...\n",
      "Going to call recursion(494)...\n",
      "Going to call recursion(495)...\n",
      "Going to call recursion(496)...\n",
      "Going to call recursion(497)...\n",
      "Going to call recursion(498)...\n",
      "Going to call recursion(499)...\n",
      "Going to call recursion(500)...\n",
      "Going to call recursion(501)...\n",
      "Going to call recursion(502)...\n",
      "Going to call recursion(503)...\n",
      "Going to call recursion(504)...\n",
      "Going to call recursion(505)...\n",
      "Going to call recursion(506)...\n",
      "Going to call recursion(507)...\n",
      "Going to call recursion(508)...\n",
      "Going to call recursion(509)...\n",
      "Going to call recursion(510)...\n",
      "Going to call recursion(511)...\n",
      "Going to call recursion(512)...\n",
      "Going to call recursion(513)...\n",
      "Going to call recursion(514)...\n",
      "Going to call recursion(515)...\n",
      "Going to call recursion(516)...\n",
      "Going to call recursion(517)...\n",
      "Going to call recursion(518)...\n",
      "Going to call recursion(519)...\n",
      "Going to call recursion(520)...\n",
      "Going to call recursion(521)...\n",
      "Going to call recursion(522)...\n",
      "Going to call recursion(523)...\n",
      "Going to call recursion(524)...\n",
      "Going to call recursion(525)...\n",
      "Going to call recursion(526)...\n",
      "Going to call recursion(527)...\n",
      "Going to call recursion(528)...\n",
      "Going to call recursion(529)...\n",
      "Going to call recursion(530)...\n",
      "Going to call recursion(531)...\n",
      "Going to call recursion(532)...\n",
      "Going to call recursion(533)...\n",
      "Going to call recursion(534)...\n",
      "Going to call recursion(535)...\n",
      "Going to call recursion(536)...\n",
      "Going to call recursion(537)...\n",
      "Going to call recursion(538)...\n",
      "Going to call recursion(539)...\n",
      "Going to call recursion(540)...\n",
      "Going to call recursion(541)...\n",
      "Going to call recursion(542)...\n",
      "Going to call recursion(543)...\n",
      "Going to call recursion(544)...\n",
      "Going to call recursion(545)...\n",
      "Going to call recursion(546)...\n",
      "Going to call recursion(547)...\n",
      "Going to call recursion(548)...\n",
      "Going to call recursion(549)...\n",
      "Going to call recursion(550)...\n",
      "Going to call recursion(551)...\n",
      "Going to call recursion(552)...\n",
      "Going to call recursion(553)...\n",
      "Going to call recursion(554)...\n",
      "Going to call recursion(555)...\n",
      "Going to call recursion(556)...\n",
      "Going to call recursion(557)...\n",
      "Going to call recursion(558)...\n",
      "Going to call recursion(559)...\n",
      "Going to call recursion(560)...\n",
      "Going to call recursion(561)...\n",
      "Going to call recursion(562)...\n",
      "Going to call recursion(563)...\n",
      "Going to call recursion(564)...\n",
      "Going to call recursion(565)...\n",
      "Going to call recursion(566)...\n",
      "Going to call recursion(567)...\n",
      "Going to call recursion(568)...\n",
      "Going to call recursion(569)...\n",
      "Going to call recursion(570)...\n",
      "Going to call recursion(571)...\n",
      "Going to call recursion(572)...\n",
      "Going to call recursion(573)...\n",
      "Going to call recursion(574)...\n",
      "Going to call recursion(575)...\n",
      "Going to call recursion(576)...\n",
      "Going to call recursion(577)...\n",
      "Going to call recursion(578)...\n",
      "Going to call recursion(579)...\n",
      "Going to call recursion(580)...\n",
      "Going to call recursion(581)...\n",
      "Going to call recursion(582)...\n",
      "Going to call recursion(583)...\n",
      "Going to call recursion(584)...\n",
      "Going to call recursion(585)...\n",
      "Going to call recursion(586)...\n",
      "Going to call recursion(587)...\n",
      "Going to call recursion(588)...\n",
      "Going to call recursion(589)...\n",
      "Going to call recursion(590)...\n",
      "Going to call recursion(591)...\n",
      "Going to call recursion(592)...\n",
      "Going to call recursion(593)...\n",
      "Going to call recursion(594)...\n",
      "Going to call recursion(595)...\n",
      "Going to call recursion(596)...\n",
      "Going to call recursion(597)...\n",
      "Going to call recursion(598)...\n",
      "Going to call recursion(599)...\n",
      "Going to call recursion(600)...\n",
      "Going to call recursion(601)...\n",
      "Going to call recursion(602)...\n",
      "Going to call recursion(603)...\n",
      "Going to call recursion(604)...\n",
      "Going to call recursion(605)...\n",
      "Going to call recursion(606)...\n",
      "Going to call recursion(607)...\n",
      "Going to call recursion(608)...\n",
      "Going to call recursion(609)...\n",
      "Going to call recursion(610)...\n",
      "Going to call recursion(611)...\n",
      "Going to call recursion(612)...\n",
      "Going to call recursion(613)...\n",
      "Going to call recursion(614)...\n",
      "Going to call recursion(615)...\n",
      "Going to call recursion(616)...\n",
      "Going to call recursion(617)...\n",
      "Going to call recursion(618)...\n",
      "Going to call recursion(619)...\n",
      "Going to call recursion(620)...\n",
      "Going to call recursion(621)...\n",
      "Going to call recursion(622)...\n",
      "Going to call recursion(623)...\n",
      "Going to call recursion(624)...\n",
      "Going to call recursion(625)...\n",
      "Going to call recursion(626)...\n",
      "Going to call recursion(627)...\n",
      "Going to call recursion(628)...\n",
      "Going to call recursion(629)...\n",
      "Going to call recursion(630)...\n",
      "Going to call recursion(631)...\n",
      "Going to call recursion(632)...\n",
      "Going to call recursion(633)...\n",
      "Going to call recursion(634)...\n",
      "Going to call recursion(635)...\n",
      "Going to call recursion(636)...\n",
      "Going to call recursion(637)...\n",
      "Going to call recursion(638)...\n",
      "Going to call recursion(639)...\n",
      "Going to call recursion(640)...\n",
      "Going to call recursion(641)...\n",
      "Going to call recursion(642)...\n",
      "Going to call recursion(643)...\n",
      "Going to call recursion(644)...\n",
      "Going to call recursion(645)...\n",
      "Going to call recursion(646)...\n",
      "Going to call recursion(647)...\n",
      "Going to call recursion(648)...\n",
      "Going to call recursion(649)...\n",
      "Going to call recursion(650)...\n",
      "Going to call recursion(651)...\n",
      "Going to call recursion(652)...\n",
      "Going to call recursion(653)...\n",
      "Going to call recursion(654)...\n",
      "Going to call recursion(655)...\n",
      "Going to call recursion(656)...\n",
      "Going to call recursion(657)...\n",
      "Going to call recursion(658)...\n",
      "Going to call recursion(659)...\n",
      "Going to call recursion(660)...\n",
      "Going to call recursion(661)...\n",
      "Going to call recursion(662)...\n",
      "Going to call recursion(663)...\n",
      "Going to call recursion(664)...\n",
      "Going to call recursion(665)...\n",
      "Going to call recursion(666)...\n",
      "Going to call recursion(667)...\n",
      "Going to call recursion(668)...\n",
      "Going to call recursion(669)...\n",
      "Going to call recursion(670)...\n",
      "Going to call recursion(671)...\n",
      "Going to call recursion(672)...\n",
      "Going to call recursion(673)...\n",
      "Going to call recursion(674)...\n",
      "Going to call recursion(675)...\n",
      "Going to call recursion(676)...\n",
      "Going to call recursion(677)...\n",
      "Going to call recursion(678)...\n",
      "Going to call recursion(679)...\n",
      "Going to call recursion(680)...\n",
      "Going to call recursion(681)...\n",
      "Going to call recursion(682)...\n",
      "Going to call recursion(683)...\n",
      "Going to call recursion(684)...\n",
      "Going to call recursion(685)...\n",
      "Going to call recursion(686)...\n",
      "Going to call recursion(687)...\n",
      "Going to call recursion(688)...\n",
      "Going to call recursion(689)...\n",
      "Going to call recursion(690)...\n",
      "Going to call recursion(691)...\n",
      "Going to call recursion(692)...\n",
      "Going to call recursion(693)...\n",
      "Going to call recursion(694)...\n",
      "Going to call recursion(695)...\n",
      "Going to call recursion(696)...\n",
      "Going to call recursion(697)...\n",
      "Going to call recursion(698)...\n",
      "Going to call recursion(699)...\n",
      "Going to call recursion(700)...\n",
      "Going to call recursion(701)...\n",
      "Going to call recursion(702)...\n",
      "Going to call recursion(703)...\n",
      "Going to call recursion(704)...\n",
      "Going to call recursion(705)...\n",
      "Going to call recursion(706)...\n",
      "Going to call recursion(707)...\n",
      "Going to call recursion(708)...\n",
      "Going to call recursion(709)...\n",
      "Going to call recursion(710)...\n",
      "Going to call recursion(711)...\n",
      "Going to call recursion(712)...\n",
      "Going to call recursion(713)...\n",
      "Going to call recursion(714)...\n",
      "Going to call recursion(715)...\n",
      "Going to call recursion(716)...\n",
      "Going to call recursion(717)...\n",
      "Going to call recursion(718)...\n",
      "Going to call recursion(719)...\n",
      "Going to call recursion(720)...\n",
      "Going to call recursion(721)...\n",
      "Going to call recursion(722)...\n",
      "Going to call recursion(723)...\n",
      "Going to call recursion(724)...\n",
      "Going to call recursion(725)...\n",
      "Going to call recursion(726)...\n",
      "Going to call recursion(727)...\n",
      "Going to call recursion(728)...\n",
      "Going to call recursion(729)...\n",
      "Going to call recursion(730)...\n",
      "Going to call recursion(731)...\n",
      "Going to call recursion(732)...\n",
      "Going to call recursion(733)...\n",
      "Going to call recursion(734)...\n",
      "Going to call recursion(735)...\n",
      "Going to call recursion(736)...\n",
      "Going to call recursion(737)...\n",
      "Going to call recursion(738)...\n",
      "Going to call recursion(739)...\n",
      "Going to call recursion(740)...\n",
      "Going to call recursion(741)...\n",
      "Going to call recursion(742)...\n",
      "Going to call recursion(743)...\n",
      "Going to call recursion(744)...\n",
      "Going to call recursion(745)...\n",
      "Going to call recursion(746)...\n",
      "Going to call recursion(747)...\n",
      "Going to call recursion(748)...\n",
      "Going to call recursion(749)...\n",
      "Going to call recursion(750)...\n",
      "Going to call recursion(751)...\n",
      "Going to call recursion(752)...\n",
      "Going to call recursion(753)...\n",
      "Going to call recursion(754)...\n",
      "Going to call recursion(755)...\n",
      "Going to call recursion(756)...\n",
      "Going to call recursion(757)...\n",
      "Going to call recursion(758)...\n",
      "Going to call recursion(759)...\n",
      "Going to call recursion(760)...\n",
      "Going to call recursion(761)...\n",
      "Going to call recursion(762)...\n",
      "Going to call recursion(763)...\n",
      "Going to call recursion(764)...\n",
      "Going to call recursion(765)...\n",
      "Going to call recursion(766)...\n",
      "Going to call recursion(767)...\n",
      "Going to call recursion(768)...\n",
      "Going to call recursion(769)...\n",
      "Going to call recursion(770)...\n",
      "Going to call recursion(771)...\n",
      "Going to call recursion(772)...\n",
      "Going to call recursion(773)...\n",
      "Going to call recursion(774)...\n",
      "Going to call recursion(775)...\n",
      "Going to call recursion(776)...\n",
      "Going to call recursion(777)...\n",
      "Going to call recursion(778)...\n",
      "Going to call recursion(779)...\n",
      "Going to call recursion(780)...\n",
      "Going to call recursion(781)...\n",
      "Going to call recursion(782)...\n",
      "Going to call recursion(783)...\n",
      "Going to call recursion(784)...\n",
      "Going to call recursion(785)...\n",
      "Going to call recursion(786)...\n",
      "Going to call recursion(787)...\n",
      "Going to call recursion(788)...\n",
      "Going to call recursion(789)...\n",
      "Going to call recursion(790)...\n",
      "Going to call recursion(791)...\n",
      "Going to call recursion(792)...\n",
      "Going to call recursion(793)...\n",
      "Going to call recursion(794)...\n",
      "Going to call recursion(795)...\n",
      "Going to call recursion(796)...\n",
      "Going to call recursion(797)...\n",
      "Going to call recursion(798)...\n",
      "Going to call recursion(799)...\n",
      "Going to call recursion(800)...\n",
      "Going to call recursion(801)...\n",
      "Going to call recursion(802)...\n",
      "Going to call recursion(803)...\n",
      "Going to call recursion(804)...\n",
      "Going to call recursion(805)...\n",
      "Going to call recursion(806)...\n",
      "Going to call recursion(807)...\n",
      "Going to call recursion(808)...\n",
      "Going to call recursion(809)...\n",
      "Going to call recursion(810)...\n",
      "Going to call recursion(811)...\n",
      "Going to call recursion(812)...\n",
      "Going to call recursion(813)...\n",
      "Going to call recursion(814)...\n",
      "Going to call recursion(815)...\n",
      "Going to call recursion(816)...\n",
      "Going to call recursion(817)...\n",
      "Going to call recursion(818)...\n",
      "Going to call recursion(819)...\n",
      "Going to call recursion(820)...\n",
      "Going to call recursion(821)...\n",
      "Going to call recursion(822)...\n",
      "Going to call recursion(823)...\n",
      "Going to call recursion(824)...\n",
      "Going to call recursion(825)...\n",
      "Going to call recursion(826)...\n",
      "Going to call recursion(827)...\n",
      "Going to call recursion(828)...\n",
      "Going to call recursion(829)...\n",
      "Going to call recursion(830)...\n",
      "Going to call recursion(831)...\n",
      "Going to call recursion(832)...\n",
      "Going to call recursion(833)...\n",
      "Going to call recursion(834)...\n",
      "Going to call recursion(835)...\n",
      "Going to call recursion(836)...\n",
      "Going to call recursion(837)...\n",
      "Going to call recursion(838)...\n",
      "Going to call recursion(839)...\n",
      "Going to call recursion(840)...\n",
      "Going to call recursion(841)...\n",
      "Going to call recursion(842)...\n",
      "Going to call recursion(843)...\n",
      "Going to call recursion(844)...\n",
      "Going to call recursion(845)...\n",
      "Going to call recursion(846)...\n",
      "Going to call recursion(847)...\n",
      "Going to call recursion(848)...\n",
      "Going to call recursion(849)...\n",
      "Going to call recursion(850)...\n",
      "Going to call recursion(851)...\n",
      "Going to call recursion(852)...\n",
      "Going to call recursion(853)...\n",
      "Going to call recursion(854)...\n",
      "Going to call recursion(855)...\n",
      "Going to call recursion(856)...\n",
      "Going to call recursion(857)...\n",
      "Going to call recursion(858)...\n",
      "Going to call recursion(859)...\n",
      "Going to call recursion(860)...\n",
      "Going to call recursion(861)...\n",
      "Going to call recursion(862)...\n",
      "Going to call recursion(863)...\n",
      "Going to call recursion(864)...\n",
      "Going to call recursion(865)...\n",
      "Going to call recursion(866)...\n",
      "Going to call recursion(867)...\n",
      "Going to call recursion(868)...\n",
      "Going to call recursion(869)...\n",
      "Going to call recursion(870)...\n",
      "Going to call recursion(871)...\n",
      "Going to call recursion(872)...\n",
      "Going to call recursion(873)...\n",
      "Going to call recursion(874)...\n",
      "Going to call recursion(875)...\n",
      "Going to call recursion(876)...\n",
      "Going to call recursion(877)...\n",
      "Going to call recursion(878)...\n",
      "Going to call recursion(879)...\n",
      "Going to call recursion(880)...\n",
      "Going to call recursion(881)...\n",
      "Going to call recursion(882)...\n",
      "Going to call recursion(883)...\n",
      "Going to call recursion(884)...\n",
      "Going to call recursion(885)...\n",
      "Going to call recursion(886)...\n",
      "Going to call recursion(887)...\n",
      "Going to call recursion(888)...\n",
      "Going to call recursion(889)...\n",
      "Going to call recursion(890)...\n",
      "Going to call recursion(891)...\n",
      "Going to call recursion(892)...\n",
      "Going to call recursion(893)...\n",
      "Going to call recursion(894)...\n",
      "Going to call recursion(895)...\n",
      "Going to call recursion(896)...\n",
      "Going to call recursion(897)...\n",
      "Going to call recursion(898)...\n",
      "Going to call recursion(899)...\n",
      "Going to call recursion(900)...\n",
      "Going to call recursion(901)...\n",
      "Going to call recursion(902)...\n",
      "Going to call recursion(903)...\n",
      "Going to call recursion(904)...\n",
      "Going to call recursion(905)...\n",
      "Going to call recursion(906)...\n",
      "Going to call recursion(907)...\n",
      "Going to call recursion(908)...\n",
      "Going to call recursion(909)...\n",
      "Going to call recursion(910)...\n",
      "Going to call recursion(911)...\n",
      "Going to call recursion(912)...\n",
      "Going to call recursion(913)...\n",
      "Going to call recursion(914)...\n",
      "Going to call recursion(915)...\n",
      "Going to call recursion(916)...\n",
      "Going to call recursion(917)...\n",
      "Going to call recursion(918)...\n",
      "Going to call recursion(919)...\n",
      "Going to call recursion(920)...\n",
      "Going to call recursion(921)...\n",
      "Going to call recursion(922)...\n",
      "Going to call recursion(923)...\n",
      "Going to call recursion(924)...\n",
      "Going to call recursion(925)...\n",
      "Going to call recursion(926)...\n",
      "Going to call recursion(927)...\n",
      "Going to call recursion(928)...\n",
      "Going to call recursion(929)...\n",
      "Going to call recursion(930)...\n",
      "Going to call recursion(931)...\n",
      "Going to call recursion(932)...\n",
      "Going to call recursion(933)...\n",
      "Going to call recursion(934)...\n",
      "Going to call recursion(935)...\n",
      "Going to call recursion(936)...\n",
      "Going to call recursion(937)...\n",
      "Going to call recursion(938)...\n",
      "Going to call recursion(939)...\n",
      "Going to call recursion(940)...\n",
      "Going to call recursion(941)...\n",
      "Going to call recursion(942)...\n",
      "Going to call recursion(943)...\n",
      "Going to call recursion(944)...\n",
      "Going to call recursion(945)...\n",
      "Going to call recursion(946)...\n",
      "Going to call recursion(947)...\n",
      "Going to call recursion(948)...\n",
      "Going to call recursion(949)...\n",
      "Going to call recursion(950)...\n",
      "Going to call recursion(951)...\n",
      "Going to call recursion(952)...\n",
      "Going to call recursion(953)...\n",
      "Going to call recursion(954)...\n",
      "Going to call recursion(955)...\n",
      "Going to call recursion(956)...\n",
      "Going to call recursion(957)...\n",
      "Going to call recursion(958)...\n",
      "Going to call recursion(959)...\n",
      "Going to call recursion(960)...\n",
      "Going to call recursion(961)...\n",
      "Going to call recursion(962)...\n",
      "Going to call recursion(963)...\n",
      "Going to call recursion(964)...\n",
      "Going to call recursion(965)...\n",
      "Going to call recursion(966)...\n",
      "Going to call recursion(967)...\n"
     ]
    },
    {
     "ename": "RecursionError",
     "evalue": "maximum recursion depth exceeded in comparison",
     "output_type": "error",
     "traceback": [
      "\u001b[0;31m---------------------------------------------------------------------------\u001b[0m",
      "\u001b[0;31mRecursionError\u001b[0m                            Traceback (most recent call last)",
      "\u001b[0;32m<ipython-input-129-529042ef1b5e>\u001b[0m in \u001b[0;36m<module>\u001b[0;34m()\u001b[0m\n\u001b[1;32m      3\u001b[0m     \u001b[0mrecursion\u001b[0m\u001b[0;34m(\u001b[0m\u001b[0mi\u001b[0m\u001b[0;34m+\u001b[0m\u001b[0;36m1\u001b[0m\u001b[0;34m)\u001b[0m\u001b[0;34m\u001b[0m\u001b[0m\n\u001b[1;32m      4\u001b[0m \u001b[0;34m\u001b[0m\u001b[0m\n\u001b[0;32m----> 5\u001b[0;31m \u001b[0mrecursion\u001b[0m\u001b[0;34m(\u001b[0m\u001b[0;36m1\u001b[0m\u001b[0;34m)\u001b[0m\u001b[0;34m\u001b[0m\u001b[0m\n\u001b[0m",
      "\u001b[0;32m<ipython-input-129-529042ef1b5e>\u001b[0m in \u001b[0;36mrecursion\u001b[0;34m(i)\u001b[0m\n\u001b[1;32m      1\u001b[0m \u001b[0;32mdef\u001b[0m \u001b[0mrecursion\u001b[0m\u001b[0;34m(\u001b[0m\u001b[0mi\u001b[0m\u001b[0;34m)\u001b[0m\u001b[0;34m:\u001b[0m\u001b[0;34m\u001b[0m\u001b[0m\n\u001b[1;32m      2\u001b[0m     \u001b[0mprint\u001b[0m\u001b[0;34m(\u001b[0m\u001b[0;34m\"Going to call recursion({})...\"\u001b[0m\u001b[0;34m.\u001b[0m\u001b[0mformat\u001b[0m\u001b[0;34m(\u001b[0m\u001b[0mi\u001b[0m\u001b[0;34m)\u001b[0m\u001b[0;34m)\u001b[0m\u001b[0;34m\u001b[0m\u001b[0m\n\u001b[0;32m----> 3\u001b[0;31m     \u001b[0mrecursion\u001b[0m\u001b[0;34m(\u001b[0m\u001b[0mi\u001b[0m\u001b[0;34m+\u001b[0m\u001b[0;36m1\u001b[0m\u001b[0;34m)\u001b[0m\u001b[0;34m\u001b[0m\u001b[0m\n\u001b[0m\u001b[1;32m      4\u001b[0m \u001b[0;34m\u001b[0m\u001b[0m\n\u001b[1;32m      5\u001b[0m \u001b[0mrecursion\u001b[0m\u001b[0;34m(\u001b[0m\u001b[0;36m1\u001b[0m\u001b[0;34m)\u001b[0m\u001b[0;34m\u001b[0m\u001b[0m\n",
      "... last 1 frames repeated, from the frame below ...\n",
      "\u001b[0;32m<ipython-input-129-529042ef1b5e>\u001b[0m in \u001b[0;36mrecursion\u001b[0;34m(i)\u001b[0m\n\u001b[1;32m      1\u001b[0m \u001b[0;32mdef\u001b[0m \u001b[0mrecursion\u001b[0m\u001b[0;34m(\u001b[0m\u001b[0mi\u001b[0m\u001b[0;34m)\u001b[0m\u001b[0;34m:\u001b[0m\u001b[0;34m\u001b[0m\u001b[0m\n\u001b[1;32m      2\u001b[0m     \u001b[0mprint\u001b[0m\u001b[0;34m(\u001b[0m\u001b[0;34m\"Going to call recursion({})...\"\u001b[0m\u001b[0;34m.\u001b[0m\u001b[0mformat\u001b[0m\u001b[0;34m(\u001b[0m\u001b[0mi\u001b[0m\u001b[0;34m)\u001b[0m\u001b[0;34m)\u001b[0m\u001b[0;34m\u001b[0m\u001b[0m\n\u001b[0;32m----> 3\u001b[0;31m     \u001b[0mrecursion\u001b[0m\u001b[0;34m(\u001b[0m\u001b[0mi\u001b[0m\u001b[0;34m+\u001b[0m\u001b[0;36m1\u001b[0m\u001b[0;34m)\u001b[0m\u001b[0;34m\u001b[0m\u001b[0m\n\u001b[0m\u001b[1;32m      4\u001b[0m \u001b[0;34m\u001b[0m\u001b[0m\n\u001b[1;32m      5\u001b[0m \u001b[0mrecursion\u001b[0m\u001b[0;34m(\u001b[0m\u001b[0;36m1\u001b[0m\u001b[0;34m)\u001b[0m\u001b[0;34m\u001b[0m\u001b[0m\n",
      "\u001b[0;31mRecursionError\u001b[0m: maximum recursion depth exceeded in comparison"
     ]
    }
   ],
   "source": [
    "def recursion(i):\n",
    "    print(\"Going to call recursion({})...\".format(i))\n",
    "    recursion(i+1)\n",
    "\n",
    "recursion(1)"
   ]
  },
  {
   "cell_type": "markdown",
   "metadata": {},
   "source": [
    "### Factorial"
   ]
  },
  {
   "cell_type": "code",
   "execution_count": 130,
   "metadata": {},
   "outputs": [
    {
     "name": "stdout",
     "output_type": "stream",
     "text": [
      "Factorial of 10 is 3628800\n",
      "1*2*3*4*5*6*7*8*9*10 = 3628800\n"
     ]
    }
   ],
   "source": [
    "# Factorial of 1 is 1\n",
    "# Factorial of 2 is 1x2\n",
    "# Factorial of 3 is 1x2x3\n",
    "# Factorial of 4 is 1x2x3x4\n",
    "\n",
    "# Factorial of n is factorial of n-1 x n\n",
    "\n",
    "\n",
    "\n",
    "def factorial_forloop(n):\n",
    "    result = 1\n",
    "    for i in range(1,n+1):\n",
    "        result *=i\n",
    "    return result\n",
    "\n",
    "n=10\n",
    "f=factorial_forloop(n)\n",
    "print(\"Factorial of {} is {}\".format(n,f))\n",
    "print (\"1*2*3*4*5*6*7*8*9*10 = {}\".format( 1*2*3*4*5*6*7*8*9*10))"
   ]
  },
  {
   "cell_type": "code",
   "execution_count": 131,
   "metadata": {},
   "outputs": [
    {
     "name": "stdout",
     "output_type": "stream",
     "text": [
      "factorial 10: 3628800\n"
     ]
    }
   ],
   "source": [
    "# using recursion to calculate factorial\n",
    "def factorial(n):\n",
    "    if n == 1:\n",
    "        return 1\n",
    "    return n*factorial(n-1)\n",
    "\n",
    "x = factorial(10)\n",
    "print(\"factorial 10:\", x)"
   ]
  },
  {
   "cell_type": "code",
   "execution_count": 34,
   "metadata": {},
   "outputs": [
    {
     "name": "stdout",
     "output_type": "stream",
     "text": [
      "factorial 10: 3628800\n"
     ]
    }
   ],
   "source": [
    "#  Concise, using return if else and recursion\n",
    "def factorial(n):\n",
    "    return n*factorial(n-1) if n != 1 else 1\n",
    "\n",
    "x = factorial(10)\n",
    "print(\"factorial 10:\", x)"
   ]
  },
  {
   "cell_type": "markdown",
   "metadata": {},
   "source": [
    "### Fibonacci Series"
   ]
  },
  {
   "cell_type": "code",
   "execution_count": 35,
   "metadata": {},
   "outputs": [
    {
     "name": "stdout",
     "output_type": "stream",
     "text": [
      "0 1 1 2 3 5 8 13 21 34 "
     ]
    }
   ],
   "source": [
    "# 0, 1, sum of the last 2, ...\n",
    "# Calculating Fibonacci using While loop\n",
    "\n",
    "def fib_whileloop(n):\n",
    "    a,b = 0,1\n",
    "    while b <= num:\n",
    "        a,b = b, a+b\n",
    "    return a\n",
    "\n",
    "for i in range(10):\n",
    "    print(fib(i), end=' ')"
   ]
  },
  {
   "cell_type": "code",
   "execution_count": 36,
   "metadata": {},
   "outputs": [
    {
     "name": "stdout",
     "output_type": "stream",
     "text": [
      "0 1 1 2 3 5 8 13 21 34 "
     ]
    }
   ],
   "source": [
    "def fib(n):\n",
    "    if n<=1:\n",
    "        return n\n",
    "    else: return fib(n-1)+fib(n-2)\n",
    "\n",
    "for i in range(10):\n",
    "    print(fib(i), end=' ')"
   ]
  },
  {
   "cell_type": "code",
   "execution_count": 38,
   "metadata": {},
   "outputs": [
    {
     "name": "stdout",
     "output_type": "stream",
     "text": [
      "0 1 1 2 3 5 8 13 21 34 "
     ]
    }
   ],
   "source": [
    "# concise, using return if else\n",
    "def fib(n):\n",
    "    return n if n <=1 else fib(n-1)+fib(n-2)\n",
    "\n",
    "for i in range(10):\n",
    "    print(fib(i), end=' ')"
   ]
  },
  {
   "cell_type": "markdown",
   "metadata": {},
   "source": [
    "## Recap\n",
    "- We looked into dir() a builtin\n",
    "- Quickly looked into how we can import a python module using basic import statement\n",
    "  - we imported math, sys, random and time modules\n",
    "-  How to define functions and call them\n",
    "-  How functionName.\\__doc\\__ displays a function's document string\n",
    "-  Default arguments which provide default values which can be overridden by the caller\n",
    "-  Global and local variables scope within function\n",
    "-  Functions with immutable parameters\n",
    "-  Variable and keyworded arguments\n",
    "-  Recursion"
   ]
  },
  {
   "cell_type": "markdown",
   "metadata": {},
   "source": [
    "## Assignments\n",
    "- Functions Assignment\n",
    "- Functions Writing Assignment"
   ]
  },
  {
   "cell_type": "markdown",
   "metadata": {},
   "source": [
    "## Quiz\n",
    "- Quiz 4"
   ]
  }
 ],
 "metadata": {
  "kernelspec": {
   "display_name": "Python 3",
   "language": "python",
   "name": "python3"
  },
  "language_info": {
   "codemirror_mode": {
    "name": "ipython",
    "version": 3
   },
   "file_extension": ".py",
   "mimetype": "text/x-python",
   "name": "python",
   "nbconvert_exporter": "python",
   "pygments_lexer": "ipython3",
   "version": "3.5.2"
  }
 },
 "nbformat": 4,
 "nbformat_minor": 2
}
