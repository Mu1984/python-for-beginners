{
 "cells": [
  {
   "cell_type": "markdown",
   "metadata": {},
   "source": [
    "## Lecture 5"
   ]
  },
  {
   "cell_type": "markdown",
   "metadata": {},
   "source": [
    "## Developing Python Scripts\n",
    "-  We have few choices\n",
    "   - run python3 and enter python code interactively\n",
    "   - run ipython and enter python code interactively\n",
    "   - jupyter notebook\n",
    "   - bpython https://www.bpython-interpreter.org/\n",
    "   - All the above approaches wont be practical in a production setting\n",
    "   - use tools such as idle, pycharm, atom, brackets, sublime\n",
    "     - use a text editor, enter python code and save it as a file with .py extension (e.g.: filename.py)\n",
    "     - python3 filename.py\n",
    "       - filename.py is also called as a python **script**"
   ]
  },
  {
   "cell_type": "markdown",
   "metadata": {},
   "source": [
    "## When Script Becomes Too Large\n",
    "- We refactor and organize code into many smaller files"
   ]
  },
  {
   "cell_type": "markdown",
   "metadata": {},
   "source": [
    "## What is a Module?\n",
    "\n",
    "![Script](images/Lecture-5.002.png)\n",
    "\n",
    "-  A module is a python script file containing functions and class definitions, variables  and statements\n",
    "-  We dont want to reinvent the wheel\n",
    "   - Leverage the code provided by standard python modules, packages and the open source community"
   ]
  },
  {
   "cell_type": "markdown",
   "metadata": {},
   "source": [
    "-  Lets say we have a script.py\n",
    "   - it has functions foo(),  bar() defined\n",
    "-  In order to improve code readability we are splitting script.py into 2 files\n",
    "   1.  script.py\n",
    "   2.  foobar.py\n",
    "- This **wont work** because within script.py the python interpretor will not be able to search and locate foo() and bar() functions which are defined elsewhere\n",
    "  - It will look for the functions in its symbol table and wont find them\n",
    "  - The python interpretor needs to be told about foobar.py where foo() and bar() are defined\n",
    "\n",
    "### script-orig.py\n",
    "```\n",
    "print(\"File Name: {} Module Name: {}\".format(__file__, __name__))\n",
    "\n",
    "print(\"\\nSymbol Table 1: \", dir())\n",
    "\n",
    "def foo():\n",
    "    print(\"In foo\")\n",
    "\n",
    "print(\"\\nSymbol Table 2: \", dir())\n",
    "\n",
    "def bar():\n",
    "    print(\"In bar\")\n",
    "\n",
    "print(\"\\nSymbol Table 3: \", dir())\n",
    "\n",
    "print(\"\\nCalling foo() ...\")\n",
    "foo()\n",
    "\n",
    "print(\"\\nCalling bar() ...\")\n",
    "bar()\n",
    "\n",
    "```\n",
    "\n"
   ]
  },
  {
   "cell_type": "code",
   "execution_count": 12,
   "metadata": {},
   "outputs": [
    {
     "name": "stdout",
     "output_type": "stream",
     "text": [
      "File Name: code/script-orig.py Module Name: __main__\r\n",
      "\r\n",
      "Symbol Table 1:  ['__builtins__', '__cached__', '__doc__', '__file__', '__loader__', '__name__', '__package__', '__spec__']\r\n",
      "\r\n",
      "Symbol Table 2:  ['__builtins__', '__cached__', '__doc__', '__file__', '__loader__', '__name__', '__package__', '__spec__', 'foo']\r\n",
      "\r\n",
      "Symbol Table 3:  ['__builtins__', '__cached__', '__doc__', '__file__', '__loader__', '__name__', '__package__', '__spec__', 'bar', 'foo']\r\n",
      "\r\n",
      "Calling foo() ...\r\n",
      "In foo\r\n",
      "\r\n",
      "Calling bar() ...\r\n",
      "In bar\r\n"
     ]
    }
   ],
   "source": [
    "!python3 code/script-orig.py"
   ]
  },
  {
   "cell_type": "markdown",
   "metadata": {},
   "source": [
    "![Script](images/Lecture-5.003.png)"
   ]
  },
  {
   "cell_type": "markdown",
   "metadata": {},
   "source": [
    "## Import Statement\n",
    "\n",
    "![Script](images/Lecture-5.004.png)\n",
    "\n",
    "```\n",
    "import foobar\n",
    "```\n",
    "- Python runs all code in the foobar.py file\n",
    "\n",
    "- Where will the interpretor search looking for functions or variables or classes\n",
    "  - path specified by a path list in the module sys  called sys.path\n",
    "    - look inside python's builtin module\n",
    "    - directories pointed by PYTHONPATH environment variable\n",
    "    - default path as specified in python installation"
   ]
  },
  {
   "cell_type": "markdown",
   "metadata": {},
   "source": [
    "### script.py\n",
    "```\n",
    "print(\"File Name: {} Module Name: {}\".format( __file__, __name__))\n",
    "\n",
    "print(\"\\nSymbol Table 1 {} {}:\".format(__file__, dir()))\n",
    "import foobar\n",
    "\n",
    "print(\"\\nSymbol Table 2 {} {}:\".format(__file__, dir()))\n",
    "\n",
    "print(\"\\nSymbol Table 3 {} {}:\".format(__file__, dir(foobar)))\n",
    "\n",
    "foobar.foo()\n",
    "foobar.bar()\n",
    "```\n",
    "### foobar.py\n",
    "```\n",
    "print(\"\\nFile Name: {} Module Name: {}\".format( __file__, __name__))\n",
    "\n",
    "\n",
    "def foo():\n",
    "    print(\"In foo\")\n",
    "\n",
    "def bar():\n",
    "    print(\"In bar\")\n",
    "\n",
    "print(\"Symbol Table {} {}:\".format(__file__, dir()))\n",
    "```"
   ]
  },
  {
   "cell_type": "code",
   "execution_count": 13,
   "metadata": {},
   "outputs": [
    {
     "name": "stdout",
     "output_type": "stream",
     "text": [
      "File Name: code/script.py Module Name: __main__\r\n",
      "\r\n",
      "Symbol Table 1 code/script.py ['__builtins__', '__cached__', '__doc__', '__file__', '__loader__', '__name__', '__package__', '__spec__']:\r\n",
      "\r\n",
      "File Name: /home/kripa/python-for-beginners/ucsc/week-5/code/foobar.py Module Name: foobar\r\n",
      "Symbol Table /home/kripa/python-for-beginners/ucsc/week-5/code/foobar.py ['__builtins__', '__cached__', '__doc__', '__file__', '__loader__', '__name__', '__package__', '__spec__', 'bar', 'foo']:\r\n",
      "\r\n",
      "Symbol Table 2 code/script.py ['__builtins__', '__cached__', '__doc__', '__file__', '__loader__', '__name__', '__package__', '__spec__', 'foobar']:\r\n",
      "\r\n",
      "Symbol Table 3 code/script.py ['__builtins__', '__cached__', '__doc__', '__file__', '__loader__', '__name__', '__package__', '__spec__', 'bar', 'foo']:\r\n",
      "In foo\r\n",
      "In bar\r\n"
     ]
    }
   ],
   "source": [
    "!python3 code/script.py"
   ]
  },
  {
   "cell_type": "markdown",
   "metadata": {},
   "source": [
    "## Import Error\n",
    "- What happens if we import a module which python cannot find?\n",
    "  - It raises an import error"
   ]
  },
  {
   "cell_type": "code",
   "execution_count": 9,
   "metadata": {},
   "outputs": [
    {
     "ename": "ImportError",
     "evalue": "No module named 'module_not_found'",
     "output_type": "error",
     "traceback": [
      "\u001b[0;31m---------------------------------------------------------------------------\u001b[0m",
      "\u001b[0;31mImportError\u001b[0m                               Traceback (most recent call last)",
      "\u001b[0;32m<ipython-input-9-dc02a45af00e>\u001b[0m in \u001b[0;36m<module>\u001b[0;34m()\u001b[0m\n\u001b[0;32m----> 1\u001b[0;31m \u001b[0;32mimport\u001b[0m \u001b[0mmodule_not_found\u001b[0m\u001b[0;34m\u001b[0m\u001b[0m\n\u001b[0m",
      "\u001b[0;31mImportError\u001b[0m: No module named 'module_not_found'"
     ]
    }
   ],
   "source": [
    "import module_not_found"
   ]
  },
  {
   "cell_type": "markdown",
   "metadata": {},
   "source": [
    "### path.py\n",
    "```\n",
    "print(\"File Name: {} Module Name: {}\".format( __file__, __name__))\n",
    "\n",
    "import sys\n",
    "\n",
    "print(\"Printing, sys.path  ...\")\n",
    "for dirpath in sys.path:\n",
    "    print(dirpath)\n",
    "```"
   ]
  },
  {
   "cell_type": "code",
   "execution_count": 18,
   "metadata": {},
   "outputs": [
    {
     "name": "stdout",
     "output_type": "stream",
     "text": [
      "File Name: code/path.py Module Name: __main__\r\n",
      "Printing, sys.path  ...\r\n",
      "/home/kripa/python-for-beginners/ucsc/week-5/code\r\n",
      "/home/kripa/caffe/python\r\n",
      "/home/kripa/python-for-beginners/ucsc/week-5\r\n",
      "/usr/lib/python35.zip\r\n",
      "/usr/lib/python3.5\r\n",
      "/usr/lib/python3.5/plat-x86_64-linux-gnu\r\n",
      "/usr/lib/python3.5/lib-dynload\r\n",
      "/home/kripa/.local/lib/python3.5/site-packages\r\n",
      "/usr/local/lib/python3.5/dist-packages\r\n",
      "/usr/lib/python3/dist-packages\r\n"
     ]
    }
   ],
   "source": [
    "!python3 code/path.py"
   ]
  },
  {
   "cell_type": "markdown",
   "metadata": {},
   "source": [
    "### env.py\n",
    "```\n",
    "print(\"File Name: {} Module Name: {}\".format( __file__, __name__))\n",
    "\n",
    "import sys \n",
    "import os\n",
    "\n",
    "print(\"\\nPYTHONPATH environment variable: \", os.environ['PYTHONPATH'])\n",
    "\n",
    "print(\"Printing, sys.path  ...\")\n",
    "for dirpath in sys.path:\n",
    "    print(dirpath)\n",
    "\n",
    "```"
   ]
  },
  {
   "cell_type": "code",
   "execution_count": 19,
   "metadata": {},
   "outputs": [
    {
     "name": "stdout",
     "output_type": "stream",
     "text": [
      "File Name: code/env.py Module Name: __main__\r\n",
      "\r\n",
      "PYTHONPATH environment variable:  /fake/path/foo/bar\r\n",
      "Printing, sys.path  ...\r\n",
      "/home/kripa/python-for-beginners/ucsc/week-5/code\r\n",
      "/fake/path/foo/bar\r\n",
      "/usr/lib/python35.zip\r\n",
      "/usr/lib/python3.5\r\n",
      "/usr/lib/python3.5/plat-x86_64-linux-gnu\r\n",
      "/usr/lib/python3.5/lib-dynload\r\n",
      "/home/kripa/.local/lib/python3.5/site-packages\r\n",
      "/usr/local/lib/python3.5/dist-packages\r\n",
      "/usr/lib/python3/dist-packages\r\n"
     ]
    }
   ],
   "source": [
    "!(export PYTHONPATH=/fake/path/foo/bar; python3 code/env.py)"
   ]
  },
  {
   "cell_type": "markdown",
   "metadata": {},
   "source": [
    "- lets say we write a script called foobar.py which contains 2 functions:\n",
    "  - foo()\n",
    "  - bar()\n",
    "- In a different file say, importeg.py I want to invoke these functions\n",
    "- Python will look for the module name (foobar) within built-ins and in place where it can find standard python modules or packages\n",
    "- Since it wont find foo() it will exit with name error\n",
    "- We need to tell python where to find foobar module which contains the foo()\n",
    "  - python provides the **import** statement to specify the module or package\n",
    "  - There are a few variations of using the import statement\n",
    "  - Enteries get added to the python intepretors symbol table\n",
    "  - using modulename.functionname() we invoke the function named functionaname\n",
    "  "
   ]
  },
  {
   "cell_type": "markdown",
   "metadata": {},
   "source": [
    "![from module](images/Lecture-5.005.png)\n",
    "![from_module multiple functions](images/Lecture-5.006.png)\n",
    "![import star](images/Lecture-5.007.png)\n",
    "![import as](images/Lecture-5.008.png)"
   ]
  },
  {
   "cell_type": "markdown",
   "metadata": {},
   "source": [
    "## What is a Package\n",
    "- A directory containing  files with .py extension\n",
    "- May contain directories which in turn contains files with .py extension\n",
    "- The name of the directory is the name of the package\n",
    "  - the name of the subdirectories are the names of the sub packages\n",
    "- Packages have __init__.py which could be empty or have intialization code\n",
    "\n"
   ]
  },
  {
   "cell_type": "markdown",
   "metadata": {},
   "source": [
    "![import as](images/Lecture-5.009.png)\n",
    "![import as](images/Lecture-5.010.png)"
   ]
  },
  {
   "cell_type": "markdown",
   "metadata": {},
   "source": []
  },
  {
   "cell_type": "markdown",
   "metadata": {},
   "source": [
    "## Absolute and Relative import\n",
    "- A directory containing  files with .py extension\n",
    "- May contain directories which in turn contains files with .py extension\n",
    "- The name of the directory is the name of the package\n",
    "  - the name of the subdirectories are the names of the sub packages"
   ]
  },
  {
   "cell_type": "markdown",
   "metadata": {},
   "source": [
    "## References \n",
    "1. <a href=https://docs.python.org/3.6/tutorial/modules.html#packages> Packages Tutorial</a>\n",
    "\n",
    "2. <a href=https://chrisyeh96.github.io/2017/08/08/definitive-guide-python-imports.html> Definitive Guide to Import Statements by Chris Yeh </a>\n",
    "\n"
   ]
  },
  {
   "cell_type": "code",
   "execution_count": 1,
   "metadata": {},
   "outputs": [
    {
     "data": {
      "text/plain": [
       "module"
      ]
     },
     "execution_count": 1,
     "metadata": {},
     "output_type": "execute_result"
    }
   ],
   "source": [
    "import sys\n",
    "type(sys)"
   ]
  },
  {
   "cell_type": "code",
   "execution_count": 2,
   "metadata": {},
   "outputs": [
    {
     "data": {
      "text/plain": [
       "<module 'sys' (built-in)>"
      ]
     },
     "execution_count": 2,
     "metadata": {},
     "output_type": "execute_result"
    }
   ],
   "source": [
    "sys"
   ]
  },
  {
   "cell_type": "code",
   "execution_count": 3,
   "metadata": {},
   "outputs": [
    {
     "data": {
      "text/plain": [
       "<module 'email.mime.text' from '/usr/lib/python3.5/email/mime/text.py'>"
      ]
     },
     "execution_count": 3,
     "metadata": {},
     "output_type": "execute_result"
    }
   ],
   "source": [
    "import email.mime.text\n",
    "email.mime.text"
   ]
  },
  {
   "cell_type": "code",
   "execution_count": 4,
   "metadata": {},
   "outputs": [
    {
     "data": {
      "text/plain": [
       "['__all__',\n",
       " '__builtins__',\n",
       " '__cached__',\n",
       " '__doc__',\n",
       " '__file__',\n",
       " '__loader__',\n",
       " '__name__',\n",
       " '__package__',\n",
       " '__path__',\n",
       " '__spec__',\n",
       " '_encoded_words',\n",
       " '_parseaddr',\n",
       " '_policybase',\n",
       " 'base64mime',\n",
       " 'charset',\n",
       " 'encoders',\n",
       " 'errors',\n",
       " 'feedparser',\n",
       " 'header',\n",
       " 'iterators',\n",
       " 'message',\n",
       " 'message_from_binary_file',\n",
       " 'message_from_bytes',\n",
       " 'message_from_file',\n",
       " 'message_from_string',\n",
       " 'mime',\n",
       " 'parser',\n",
       " 'quoprimime',\n",
       " 'utils']"
      ]
     },
     "execution_count": 4,
     "metadata": {},
     "output_type": "execute_result"
    }
   ],
   "source": [
    "dir(email)"
   ]
  },
  {
   "cell_type": "markdown",
   "metadata": {},
   "source": []
  },
  {
   "cell_type": "code",
   "execution_count": 5,
   "metadata": {},
   "outputs": [
    {
     "data": {
      "text/plain": [
       "['/usr/lib/python3.5/email/mime']"
      ]
     },
     "execution_count": 5,
     "metadata": {},
     "output_type": "execute_result"
    }
   ],
   "source": [
    "email.mime.__path__"
   ]
  },
  {
   "cell_type": "code",
   "execution_count": 6,
   "metadata": {},
   "outputs": [
    {
     "data": {
      "text/plain": [
       "['/usr/lib/python3.5/email']"
      ]
     },
     "execution_count": 6,
     "metadata": {},
     "output_type": "execute_result"
    }
   ],
   "source": [
    "email.__path__"
   ]
  },
  {
   "cell_type": "code",
   "execution_count": 7,
   "metadata": {},
   "outputs": [
    {
     "data": {
      "text/plain": [
       "<module 'email.mime.text' from '/usr/lib/python3.5/email/mime/text.py'>"
      ]
     },
     "execution_count": 7,
     "metadata": {},
     "output_type": "execute_result"
    }
   ],
   "source": [
    "email.mime.text"
   ]
  },
  {
   "cell_type": "markdown",
   "metadata": {},
   "source": [
    "## Recap"
   ]
  },
  {
   "cell_type": "markdown",
   "metadata": {},
   "source": [
    "## Assignment\n",
    "- Python Built-in Modules Writing Assignment"
   ]
  },
  {
   "cell_type": "markdown",
   "metadata": {},
   "source": [
    "## Quiz\n",
    "- Quiz 5"
   ]
  }
 ],
 "metadata": {
  "kernelspec": {
   "display_name": "Python 3",
   "language": "python",
   "name": "python3"
  },
  "language_info": {
   "codemirror_mode": {
    "name": "ipython",
    "version": 3
   },
   "file_extension": ".py",
   "mimetype": "text/x-python",
   "name": "python",
   "nbconvert_exporter": "python",
   "pygments_lexer": "ipython3",
   "version": "3.5.2"
  }
 },
 "nbformat": 4,
 "nbformat_minor": 2
}
