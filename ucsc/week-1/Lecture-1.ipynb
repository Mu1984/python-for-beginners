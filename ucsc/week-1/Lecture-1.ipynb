{
 "cells": [
  {
   "cell_type": "markdown",
   "metadata": {},
   "source": [
    "# Python Programming for Beginners\n",
    "#####  Summer 2018\n",
    "##### Instructor:  Raghavan Kripakaran"
   ]
  },
  {
   "cell_type": "markdown",
   "metadata": {},
   "source": [
    "## Schedule\n",
    "- Tuesdays, 6:30-9:30 PM\n",
    "- July 17 – Aug. 21"
   ]
  },
  {
   "cell_type": "markdown",
   "metadata": {},
   "source": [
    "## Text Books\n",
    "-  Think Python by **Allen B. Downey**\n",
    "-  Dive Into Python 3 by **Mark Pilgrim**\n",
    "-  The Python Standard Library by Example by **Doug Hellmann**"
   ]
  },
  {
   "cell_type": "markdown",
   "metadata": {
    "collapsed": true
   },
   "source": [
    "![Text Books](images/Lecture-1.018.png)"
   ]
  },
  {
   "cell_type": "markdown",
   "metadata": {},
   "source": [
    "## References\n",
    "- TBD"
   ]
  },
  {
   "cell_type": "markdown",
   "metadata": {},
   "source": [
    "## Lecture 1\n",
    "-  Introduction\n",
    "   -  Hardware Architecture\n",
    "   -  Software Architecture\n",
    "   -  Compilers and Intepretors\n",
    "   -  Virtual Machines and Containers\n",
    "   -  Public Cloud providers\n",
    "-  Python\n",
    "-  Jupyter\n",
    "-  Hello World\n",
    "-  Data Types\n",
    "   - Integers\n",
    "   - Float\n",
    "   - Strings\n",
    "-  Operators\n",
    "   - Addition, Subtraction\n",
    "   - Multiplcation, Integer/Floating division\n",
    "   - Power"
   ]
  },
  {
   "cell_type": "markdown",
   "metadata": {},
   "source": [
    "## Introduction\n",
    "-  Computers are used everywhere\n",
    "   -  In our kitchen\n",
    "      -  Dish washer\n",
    "      -  Microwave Oven\n",
    "   -  Home\n",
    "      - Cell Phone\n",
    "      - laptop, desktop, tablet\n",
    "   -  Work\n",
    "      - Servers\n",
    "      - Firewalls\n",
    "   -  Vehicles\n",
    "      -  Cars\n",
    "      -  Air Planes\n",
    "   -  Industries, hospitals, Banks\n",
    "-  Why are they used?\n",
    "   - They are good in:\n",
    "     - Repetitive tasks\n",
    "     - Counting\n",
    "     - Searching\n",
    "     - Storage/Retrieval\n",
    "     - Timers, Alarms\n",
    "-  In **most cases** they need to be programmed\n",
    "   - In Artificial Intelligence (AI) and Machine Learning (ML) computers learn through examples.  They are **not** programmed\n",
    "-  Computers are given clear, step by step instructions of what it needs to do\n",
    "   -  The challenge is computers only understand binary instructions which are 0's and 1's\n",
    "-  Programming languages such as Java, C++, Go, Python etc are high level languages which are relatively easy for humans to code the instructions\n",
    "-  Programming is a fun, creative and rewarding activity\n",
    "   -  Programs are defect prone, which are called bugs\n",
    "   -  Sometimes frustrating when we are hit by a hard to find bugs\n",
    "   -  Debugging is the process of finding the defects\n",
    "   \n",
    "Let us quickly look into what is inside a computer.  Let us look at the hardware and software architecture.  And look into the tools and processes used in programming.\n",
    "Then dive into python ..."
   ]
  },
  {
   "cell_type": "markdown",
   "metadata": {},
   "source": [
    "## Hardware Architecture\n",
    "-  If you consider a computer as a black box,  it is provided input via keyboard, mouse, camera, microphone, storage disks and network\n",
    "   - Network provides connectivity and sharing of data across computer systems\n",
    "-  It produces output on the computer screen, printer, speakers and storage disks\n",
    "-  So there is an input and output system. \n",
    "![Computer Black Box](images/Lecture-1.002.png)"
   ]
  },
  {
   "cell_type": "markdown",
   "metadata": {},
   "source": [
    "-  Lets see what else is there"
   ]
  },
  {
   "cell_type": "markdown",
   "metadata": {},
   "source": [
    "\n",
    "![Hardware Architecture](images/Lecture-1.003.png)"
   ]
  },
  {
   "cell_type": "markdown",
   "metadata": {},
   "source": [
    "-  ### Central Processing Unit (CPU)\n",
    "-  CPU is the brains of the computer\n",
    "   -  It performs arithmetic and logic computation\n",
    "      \n",
    "![Intel Core i7](images/Lecture-1.004.png)"
   ]
  },
  {
   "cell_type": "markdown",
   "metadata": {},
   "source": [
    "-  ### Primary Memory (Random Access Memory - RAM)\n",
    "   - Storage disks are slow, were as the CPUs are very fast, hence Random access memory (RAM) are used to bridge the speed gap\n",
    "   - RAMs are fast and its capacity is small\n",
    "   - Data in RAM is lost when we power cycle\n",
    "      \n",
    "![RAM](images/Lecture-1.005.png)"
   ]
  },
  {
   "cell_type": "markdown",
   "metadata": {},
   "source": [
    "-  ### Secondary Memory (Solid State Disk - SSD)\n",
    "   - Storage disks are a bit slow but with a large capacity\n",
    "   - Persists data\n",
    "   - Diss are cheap compared to SSH which are fast for reading\n",
    "      \n",
    "![SSD](images/Lecture-1.006.png)"
   ]
  },
  {
   "cell_type": "markdown",
   "metadata": {},
   "source": [
    "-  ### Graphics Processing Unit (GPU)\n",
    "   - Could be integrated into the mother board\n",
    "   - We could add one or more GPU cards\n",
    "![GPU](images/Lecture-1.007.png)"
   ]
  },
  {
   "cell_type": "markdown",
   "metadata": {},
   "source": [
    "-  ### Mother Board\n",
    "![Mother Board](images/Lecture-1.008.png)"
   ]
  },
  {
   "cell_type": "markdown",
   "metadata": {},
   "source": [
    "-  ### CPU vs GPU\n",
    "   - CPUs have few cores\n",
    "   - GPUs have **thousands** of cores\n",
    "     - Massively parallel floating point computation\n",
    "![CPV vs GPU](images/Lecture-1.009.png)"
   ]
  },
  {
   "cell_type": "markdown",
   "metadata": {},
   "source": [
    "-  ### Raspberry Pi\n",
    "   - An excellent pet project candidate\n",
    "   - It is cheap and fun to tinker\n",
    "   - Install Raspbian (debian linux) on MicroSD card\n",
    "![Intel Core i7](images/Lecture-1.010.png)"
   ]
  },
  {
   "cell_type": "markdown",
   "metadata": {},
   "source": [
    "## Software Architecture\n",
    "Any complex system is broken down into different layes. Each performing some functions at a specific layer of abstraction.  The lower most layer is the hardware layer.  Then we have the kernel layer, then the shell and applications\n",
    "The example of the kernel or operating system (OS) layer is Windows, MacOs, ios, android and linux.\n",
    "\n",
    "-  ### Block Diagram\n",
    "![Intel Core i7](images/Lecture-1.011.png)"
   ]
  },
  {
   "cell_type": "markdown",
   "metadata": {},
   "source": [
    "-  ### Virtualization\n",
    "![Intel Core i7](images/Lecture-1.012.png)"
   ]
  },
  {
   "cell_type": "markdown",
   "metadata": {},
   "source": [
    "-  ### Containerization\n",
    "![Intel Core i7](images/Lecture-1.013.png)"
   ]
  },
  {
   "cell_type": "markdown",
   "metadata": {},
   "source": [
    "## Public Cloud Providers\n",
    "![Cloud Providers](images/Lecture-1.017.png)"
   ]
  },
  {
   "cell_type": "markdown",
   "metadata": {},
   "source": [
    "## Compiler\n",
    "![Intel Core i7](images/Lecture-1.014.png)"
   ]
  },
  {
   "cell_type": "markdown",
   "metadata": {},
   "source": [
    "## Interpretor\n",
    "![Intel Core i7](images/Lecture-1.015.png)"
   ]
  },
  {
   "cell_type": "markdown",
   "metadata": {},
   "source": [
    "## Python\n",
    "> Python is **powerful**... and **fast**; \n",
    "plays well with others; \n",
    "**runs everywhere**; \n",
    "is **friendly** & **easy to learn**; \n",
    "is **Open**\n",
    "\n",
    "![Guido](images/Lecture-1.016.png)\n",
    "\n",
    "- Created by Guido van Rossum and first released in 1991\n",
    "- Latest stable release is version 3.6\n",
    "- interpreted high-level programming language for general-purpose programming\n",
    "- Python has a design philosophy that emphasizes code readability, notably using significant whitespace\n",
    "- Python features a dynamic type system and automatic memory management\n",
    "- It supports multiple programming paradigms including\n",
    "  - object-oriented\n",
    "  - imperative\n",
    "  - functional\n",
    "  - procedural\n",
    "  - large and comprehensive standard library\n",
    "\n",
    "- Make sure that you are using the correct version of:\n",
    "  - python interpretor\n",
    "  - documentation"
   ]
  },
  {
   "cell_type": "markdown",
   "metadata": {},
   "source": [
    "## Jupyter\n",
    "    - A browser based integrated development enviroment\n",
    "    - Named after languages such as Julia, Python and R\n",
    "    - Composed of cells which can be of type:\n",
    "      - code\n",
    "      - markdown\n",
    "      - raw\n",
    "    - A cell can be either in the command mode (blue box) or edit mode (green box)\n",
    "      - In command mode type\n",
    "        - h for help\n",
    "        - a to add a cell above\n",
    "        - b to add a cell below\n",
    "        - dd to delete a cell\n",
    "        - c to copy, v or shift+v to paste\n",
    "      - Esc to escape from edit mode into command mode\n",
    "      - Enter to enter into edit mode from command mode\n",
    "    - Supports multiple kernels\n",
    "    - Navigation using arrow keys, mouse or key short cuts\n",
    "    - Ctrl+Enter or Shift+Enter or Alt+Enter to execute a cell\n",
    "    - Note book file extension is .ipynb\n",
    "    - Menu and tool bar is helpful to get started\n",
    "    - Use File from menu to\n",
    "      - open new or existing notebook\n",
    "      - save\n",
    "      - close and halt\n",
    "    - Use Kernel from menu to interrupt kernel, restart and clear output"
   ]
  },
  {
   "cell_type": "markdown",
   "metadata": {},
   "source": [
    "## Jupyter Architecture\n",
    "![jupyter architecture 1](images/Lecture-1.020.png)\n",
    "![jupyter architecture 2](images/Lecture-1.021.png)"
   ]
  },
  {
   "cell_type": "markdown",
   "metadata": {},
   "source": [
    "##  jupyter.org"
   ]
  },
  {
   "cell_type": "code",
   "execution_count": 4,
   "metadata": {
    "scrolled": true
   },
   "outputs": [
    {
     "data": {
      "text/html": [
       "\n",
       "        <iframe\n",
       "            width=\"100%\"\n",
       "            height=\"350\"\n",
       "            src=\"http://jupyter.org\"\n",
       "            frameborder=\"0\"\n",
       "            allowfullscreen\n",
       "        ></iframe>\n",
       "        "
      ],
      "text/plain": [
       "<IPython.lib.display.IFrame at 0x7f7ce02f52e8>"
      ]
     },
     "execution_count": 4,
     "metadata": {},
     "output_type": "execute_result"
    }
   ],
   "source": [
    "from IPython.display import IFrame\n",
    "IFrame('http://jupyter.org', width='100%', height=350)"
   ]
  },
  {
   "cell_type": "markdown",
   "metadata": {
    "collapsed": true
   },
   "source": [
    "- Jupyter Hub [Try Jupyter with Python](http://jupyter.org/try)\n",
    "\n",
    "![Jupyter.org](images/Lecture-1.019.png)\n",
    "\n",
    "- Reading assignment [Jupyter Tutorial](https://www.dataquest.io/blog/jupyter-notebook-tutorial/)"
   ]
  },
  {
   "cell_type": "markdown",
   "metadata": {},
   "source": [
    "## Lets dive into Python using Jupyter\n",
    "## Comments \n",
    "    - Comments help to make your code readable\n",
    "    - # marks a start of a single line comment\n",
    "      - # can also be added to the end of a python statement"
   ]
  },
  {
   "cell_type": "markdown",
   "metadata": {},
   "source": [
    "## Print Function\n",
    "### First Python Program\n",
    "-  Lets print a text \"Hello World!\" to the computer screen \n",
    "   - We will use the print function\n",
    "   - Functions are called as name of the function followed by paranthesis ()\n",
    "   - Whatever you want to print is put inside the paranthesis like:\n",
    "     - print(\"Hello World!\")\n",
    "   - Now trying printing your name\n",
    "   - Note:  \n",
    "     - Use b in command mode to create a new cell\n",
    "     - Press enter\n",
    "     - Enter print(\"Hello World\")\n",
    "     - Enter esc\n",
    "     - Enter Shift+Enter or Ctrl+Enter to execute the code cell "
   ]
  },
  {
   "cell_type": "code",
   "execution_count": 2,
   "metadata": {},
   "outputs": [
    {
     "name": "stdout",
     "output_type": "stream",
     "text": [
      "Hello World\n"
     ]
    }
   ],
   "source": [
    "print(\"Hello World\")"
   ]
  },
  {
   "cell_type": "markdown",
   "metadata": {},
   "source": [
    "## Python as a Calculator\n",
    "- Let perform some basic operations such as add, substract, multiply and divide"
   ]
  },
  {
   "cell_type": "code",
   "execution_count": 3,
   "metadata": {},
   "outputs": [
    {
     "data": {
      "text/plain": [
       "3"
      ]
     },
     "execution_count": 3,
     "metadata": {},
     "output_type": "execute_result"
    }
   ],
   "source": [
    "# adding numbers 1 and 2\n",
    "1+2"
   ]
  },
  {
   "cell_type": "code",
   "execution_count": 4,
   "metadata": {},
   "outputs": [
    {
     "data": {
      "text/plain": [
       "1"
      ]
     },
     "execution_count": 4,
     "metadata": {},
     "output_type": "execute_result"
    }
   ],
   "source": [
    "3-2  # substracting 2 from 3"
   ]
  },
  {
   "cell_type": "code",
   "execution_count": 5,
   "metadata": {},
   "outputs": [
    {
     "data": {
      "text/plain": [
       "6.0"
      ]
     },
     "execution_count": 5,
     "metadata": {},
     "output_type": "execute_result"
    }
   ],
   "source": [
    "2*3. # multiplying 2 times 3"
   ]
  },
  {
   "cell_type": "code",
   "execution_count": 6,
   "metadata": {},
   "outputs": [
    {
     "data": {
      "text/plain": [
       "2.5"
      ]
     },
     "execution_count": 6,
     "metadata": {},
     "output_type": "execute_result"
    }
   ],
   "source": [
    "5/2  # dividing"
   ]
  },
  {
   "cell_type": "code",
   "execution_count": 5,
   "metadata": {},
   "outputs": [
    {
     "data": {
      "text/plain": [
       "2"
      ]
     },
     "execution_count": 5,
     "metadata": {},
     "output_type": "execute_result"
    }
   ],
   "source": [
    "5//2 # integer Division, note no decimal part"
   ]
  },
  {
   "cell_type": "markdown",
   "metadata": {},
   "source": [
    "-  Raise a number to a power"
   ]
  },
  {
   "cell_type": "code",
   "execution_count": 8,
   "metadata": {},
   "outputs": [
    {
     "data": {
      "text/plain": [
       "8"
      ]
     },
     "execution_count": 8,
     "metadata": {},
     "output_type": "execute_result"
    }
   ],
   "source": [
    "2**3 # 2 to the power of 3, 2 cubed"
   ]
  },
  {
   "cell_type": "markdown",
   "metadata": {},
   "source": [
    "-  Find a remainder in a division, modulus"
   ]
  },
  {
   "cell_type": "code",
   "execution_count": 9,
   "metadata": {},
   "outputs": [
    {
     "data": {
      "text/plain": [
       "1"
      ]
     },
     "execution_count": 9,
     "metadata": {},
     "output_type": "execute_result"
    }
   ],
   "source": [
    " 5 % 2  # reminder is 1 when 5 is divided by 2"
   ]
  },
  {
   "cell_type": "markdown",
   "metadata": {},
   "source": [
    "## Everything in Python are objects\n",
    "- Objects are things such as:\n",
    "  - an integer number\n",
    "  - decimal or floating point number\n",
    "  - text or string\n",
    "  - True or False or in general boolean\n",
    "- Things have a **value** and **type**\n",
    "  - It can be a constant or varies over time (variable)\n",
    "  - E.g:\n",
    "    1\n",
    "    3.142857142857143\n",
    "    \"Hello World\"\n",
    "    True\n",
    "- Variable is a **name assigned** to a value\n",
    "  - How do you assign a name to a value?\n",
    "    PI = 3.142857142857143\n",
    "  - Lets assign the value \"Hello World!\" to greetings"
   ]
  },
  {
   "cell_type": "code",
   "execution_count": 10,
   "metadata": {
    "collapsed": true
   },
   "outputs": [],
   "source": [
    "# PI is a constant and also a floating point number type\n",
    "PI = 3.142857142857143   # Upper case for constants"
   ]
  },
  {
   "cell_type": "code",
   "execution_count": 11,
   "metadata": {
    "collapsed": true
   },
   "outputs": [],
   "source": [
    "# greetings is a string type\n",
    "greetings = \"Hello World!\" # lower case for variables"
   ]
  },
  {
   "cell_type": "code",
   "execution_count": 12,
   "metadata": {
    "collapsed": true
   },
   "outputs": [],
   "source": [
    "# daysInWeek is an integer type\n",
    "daysInWeek = 7   # Note the camel case - capitalization to improve readability"
   ]
  },
  {
   "cell_type": "markdown",
   "metadata": {},
   "source": [
    "## Type Function\n",
    "- How do we find the type of a variable?\n",
    "  - Python provides type() function which is handy\n",
    "  - Like how we passed a string \"Hello World!\" into print() function\n",
    "    - we pass the variable name to type()"
   ]
  },
  {
   "cell_type": "code",
   "execution_count": 13,
   "metadata": {},
   "outputs": [
    {
     "data": {
      "text/plain": [
       "str"
      ]
     },
     "execution_count": 13,
     "metadata": {},
     "output_type": "execute_result"
    }
   ],
   "source": [
    "type(greetings)  # greetings variable is of type str (string)"
   ]
  },
  {
   "cell_type": "code",
   "execution_count": 14,
   "metadata": {},
   "outputs": [
    {
     "data": {
      "text/plain": [
       "int"
      ]
     },
     "execution_count": 14,
     "metadata": {},
     "output_type": "execute_result"
    }
   ],
   "source": [
    "type(daysInWeek) # daysInWeek variable is of type int (integer)"
   ]
  },
  {
   "cell_type": "code",
   "execution_count": 15,
   "metadata": {},
   "outputs": [
    {
     "data": {
      "text/plain": [
       "float"
      ]
     },
     "execution_count": 15,
     "metadata": {},
     "output_type": "execute_result"
    }
   ],
   "source": [
    "type(PI)         # PI constant is of type float (floating point)"
   ]
  },
  {
   "cell_type": "markdown",
   "metadata": {},
   "source": [
    "## Extra Points - 3 points\n",
    "-  Group project\n",
    "   - Open an account on AWS or Microsoft or Google (Free Tier)\n",
    "   - Spin a VM and install Jupyter notebook\n",
    "-  2 weeks"
   ]
  },
  {
   "cell_type": "markdown",
   "metadata": {},
   "source": [
    "## Extra Points - 3 points\n",
    "- Open a free account on github\n",
    "- Create a public project using the github webui\n",
    "- Install git on your laptop\n",
    "- Using git on your laptop:\n",
    "  - git clone\n",
    "  - git add\n",
    "  - git commit -m 'initial version'\n",
    "  - git push\n",
    "-  1 week"
   ]
  },
  {
   "cell_type": "markdown",
   "metadata": {
    "collapsed": true
   },
   "source": [
    "## Recap\n",
    "-  Computer hardware and software architecture\n",
    "-  CPU vs GPU\n",
    "-  Virtual Machines vs Containers\n",
    "-  Public Cloud providers\n",
    "-  Jupyter\n",
    "-  Print function, first program\n",
    "-  Python as calculator - mathematical operators\n",
    "-  Things which are objects,  they have value, name and type\n",
    "-  Type function\n"
   ]
  }
 ],
 "metadata": {
  "kernelspec": {
   "display_name": "Python 3",
   "language": "python",
   "name": "python3"
  },
  "language_info": {
   "codemirror_mode": {
    "name": "ipython",
    "version": 3
   },
   "file_extension": ".py",
   "mimetype": "text/x-python",
   "name": "python",
   "nbconvert_exporter": "python",
   "pygments_lexer": "ipython3",
   "version": "3.5.2"
  }
 },
 "nbformat": 4,
 "nbformat_minor": 2
}
