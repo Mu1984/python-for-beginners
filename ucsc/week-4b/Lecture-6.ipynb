{
 "cells": [
  {
   "cell_type": "markdown",
   "metadata": {
    "collapsed": true
   },
   "source": [
    "# Lecture 6\n",
    "  - Strings\n",
    "  - Operations\n",
    "  - Formatting\n",
    "  - String Methods"
   ]
  },
  {
   "cell_type": "markdown",
   "metadata": {},
   "source": [
    "## Unicode\n",
    "- In early days all characters were represented by ASCII\n",
    "- Characters occupied 8 bits\n",
    "- 0 - 127 values were enough to represent english languge:\n",
    "  - Upper and lower case alphabets\n",
    "  - Digits\n",
    "  - Punctuations\n",
    "  - Non printable characters (control characters)\n",
    "- A letter maps to some bits which you can store on disk or in memory:\n",
    "  -  A -> 0100 0001\n",
    "- Other languages started using codes from 128-255\n",
    "- Asian Languages has thousands of characters\n",
    "  - They needed more memory"
   ]
  },
  {
   "cell_type": "code",
   "execution_count": 123,
   "metadata": {},
   "outputs": [
    {
     "data": {
      "text/plain": [
       "'0b1000001'"
      ]
     },
     "execution_count": 123,
     "metadata": {},
     "output_type": "execute_result"
    }
   ],
   "source": [
    "bin(ord('A'))"
   ]
  },
  {
   "cell_type": "markdown",
   "metadata": {},
   "source": [
    "-  **Unicode consortium** came up with a concept called **code point**, where every character is represented as:\n",
    "   - For e.g: Hello --> U+0048 U+0065 U+006C U+006C U+006F\n",
    "   - English text rarely used code points above U+00FF\n",
    "   - Then the issue comes with how they will stored in memory?\n",
    "     - Endian issues:\n",
    "       00 48 vs 48 00\n",
    "-  UTF-8 was another system for storing your string of Unicode code points, those magic U+ numbers, in memory using 8 bit bytes \n",
    "-  In UTF-8, every code point from 0-127 is stored in a single byte\n",
    "-  Only code points 128 and above are stored using 2, 3, in fact, up to 6 bytes\n",
    "-  English text looks exactly the same in UTF-8 as it did in ASCII\n",
    "\n",
    "\n"
   ]
  },
  {
   "cell_type": "code",
   "execution_count": 124,
   "metadata": {},
   "outputs": [
    {
     "name": "stdout",
     "output_type": "stream",
     "text": [
      "H --> 0x48\n",
      "e --> 0x65\n",
      "l --> 0x6c\n",
      "l --> 0x6c\n",
      "o --> 0x6f\n"
     ]
    }
   ],
   "source": [
    "for i in \"Hello\":\n",
    "    print(\"{} --> {}\".format(i,hex(ord(i))))"
   ]
  },
  {
   "cell_type": "code",
   "execution_count": 125,
   "metadata": {},
   "outputs": [
    {
     "name": "stdout",
     "output_type": "stream",
     "text": [
      "hi 猫\n"
     ]
    }
   ],
   "source": [
    "print(\"hi 猫\")"
   ]
  },
  {
   "cell_type": "code",
   "execution_count": 126,
   "metadata": {},
   "outputs": [
    {
     "name": "stdout",
     "output_type": "stream",
     "text": [
      "hi 猫\n"
     ]
    }
   ],
   "source": [
    "print(u\"hi 猫\")  # default unicode strings"
   ]
  },
  {
   "cell_type": "code",
   "execution_count": 127,
   "metadata": {},
   "outputs": [
    {
     "name": "stdout",
     "output_type": "stream",
     "text": [
      "∑ Ω µ\n"
     ]
    }
   ],
   "source": [
    "print(\"∑ Ω µ\")"
   ]
  },
  {
   "cell_type": "code",
   "execution_count": 128,
   "metadata": {},
   "outputs": [
    {
     "name": "stdout",
     "output_type": "stream",
     "text": [
      "\\nh\\ni\\n\n"
     ]
    }
   ],
   "source": [
    "r = r\"\\nh\\ni\\n\"  # supresses the meaning of slash\n",
    "print(r)"
   ]
  },
  {
   "cell_type": "markdown",
   "metadata": {},
   "source": [
    "## Strings\n",
    "- Immutable \n",
    "  - Readonly, values cant be changed\n",
    "  - They cannot be modified\n",
    "  - New strings will formed on certain string operations\n",
    "- String variables can be reassigned with new values\n",
    "\n",
    "\n",
    "### Single, Double or Triple Quotes\n",
    "-  Triple quotes are used when strings have line breaks\n",
    "   -  For e.g.: you have a paragraph of text you want to assign to variable"
   ]
  },
  {
   "cell_type": "code",
   "execution_count": 129,
   "metadata": {
    "scrolled": true
   },
   "outputs": [
    {
     "name": "stdout",
     "output_type": "stream",
     "text": [
      "String 1, 2, 3:  Hello World Hello World Hello World\n",
      "Type of String 1, 2, 3:  <class 'str'> <class 'str'> <class 'str'>\n"
     ]
    }
   ],
   "source": [
    "# you can use single or double or triple quotes to represent strings\n",
    "string1 = 'Hello World'\n",
    "string2 = \"Hello World\"\n",
    "string3 = '''Hello World'''\n",
    "print (\"String 1, 2, 3: \", string1, string2, string3)\n",
    "print (\"Type of String 1, 2, 3: \", type(string1), type(string2), type(string3))"
   ]
  },
  {
   "cell_type": "code",
   "execution_count": 132,
   "metadata": {},
   "outputs": [
    {
     "name": "stdout",
     "output_type": "stream",
     "text": [
      "This is line 1.\n",
      "this is line 2.\n",
      "This is line3.\n"
     ]
    }
   ],
   "source": [
    "# multi line string (or a comment)\n",
    "para = '''This is line 1.\n",
    "this is line 2.\n",
    "This is line3.'''\n",
    "print (para)"
   ]
  },
  {
   "cell_type": "markdown",
   "metadata": {},
   "source": [
    "### Escape Characters\n",
    "-  Have special meaning to certain characters\n",
    "-  Character preceded by a back slash \\\n",
    "   -  '\\a'\n",
    "   -  '\\t'\n",
    "   -  '\\n'\n",
    "   -  '\\r'"
   ]
  },
  {
   "cell_type": "raw",
   "metadata": {},
   "source": [
    "$ python3\n",
    "Python 3.5.2 (default, Nov 17 2016, 17:05:23) \n",
    "[GCC 5.4.0 20160609] on linux\n",
    "Type \"help\", \"copyright\", \"credits\" or \"license\" for more information.\n",
    ">>> print(\"\\a\")\n",
    "\n",
    ">>> "
   ]
  },
  {
   "cell_type": "code",
   "execution_count": 133,
   "metadata": {},
   "outputs": [
    {
     "name": "stdout",
     "output_type": "stream",
     "text": [
      "\u0007\n"
     ]
    }
   ],
   "source": [
    "print ('\\a')  # you are supposed to hear a beep"
   ]
  },
  {
   "cell_type": "code",
   "execution_count": 134,
   "metadata": {},
   "outputs": [
    {
     "name": "stdout",
     "output_type": "stream",
     "text": [
      "foo \t bar\n"
     ]
    }
   ],
   "source": [
    "print (\"foo\", \"\\t\", \"bar\")"
   ]
  },
  {
   "cell_type": "code",
   "execution_count": 135,
   "metadata": {},
   "outputs": [
    {
     "name": "stdout",
     "output_type": "stream",
     "text": [
      "foo\n",
      ".\n",
      "bar\n",
      ".\n"
     ]
    }
   ],
   "source": [
    "print (\"foo\\n.\")\n",
    "print (\"bar\\n.\")"
   ]
  },
  {
   "cell_type": "code",
   "execution_count": 136,
   "metadata": {},
   "outputs": [
    {
     "name": "stdout",
     "output_type": "stream",
     "text": [
      "foo\r",
      ".\n",
      "bar\r",
      ".\n"
     ]
    }
   ],
   "source": [
    "print (\"foo\\r.\")\n",
    "print (\"bar\\r.\")"
   ]
  },
  {
   "cell_type": "code",
   "execution_count": 137,
   "metadata": {},
   "outputs": [
    {
     "name": "stdout",
     "output_type": "stream",
     "text": [
      "String u, r:  Hello World Hello World\n",
      "Type of String u, r:  <class 'str'> <class 'str'>\n"
     ]
    }
   ],
   "source": [
    "stringu = u'Hello World'  #default is unicode in python3\n",
    "stringr = r'Hello World'  # raw string where escape \\ does not mean anything\n",
    "print (\"String u, r: \", stringu, stringr)\n",
    "print (\"Type of String u, r: \", type(stringu), type(stringr))"
   ]
  },
  {
   "cell_type": "code",
   "execution_count": 138,
   "metadata": {},
   "outputs": [
    {
     "name": "stdout",
     "output_type": "stream",
     "text": [
      "foo\tbar\n"
     ]
    }
   ],
   "source": [
    "print (\"foo\\tbar\")   # tab character"
   ]
  },
  {
   "cell_type": "code",
   "execution_count": 139,
   "metadata": {},
   "outputs": [
    {
     "name": "stdout",
     "output_type": "stream",
     "text": [
      "foo\\tbar\n"
     ]
    }
   ],
   "source": [
    "print (r\"foo\\tbar\")  # raw string"
   ]
  },
  {
   "cell_type": "code",
   "execution_count": 140,
   "metadata": {},
   "outputs": [
    {
     "name": "stdout",
     "output_type": "stream",
     "text": [
      "foo\\bar\n"
     ]
    }
   ],
   "source": [
    "print (\"foo\\\\bar\")  # escape the backslash"
   ]
  },
  {
   "cell_type": "code",
   "execution_count": 141,
   "metadata": {},
   "outputs": [
    {
     "name": "stdout",
     "output_type": "stream",
     "text": [
      "foo\\\\bar\n"
     ]
    }
   ],
   "source": [
    "print (\"foo\\\\\\\\bar\")  # escape the backslash"
   ]
  },
  {
   "cell_type": "markdown",
   "metadata": {},
   "source": [
    "### String Variable Reinitialized\n",
    "-  New string object is being formed\n",
    "-  String ids are different\n",
    "![Reinitialized](images/Lecture-6.002.png)"
   ]
  },
  {
   "cell_type": "code",
   "execution_count": 142,
   "metadata": {},
   "outputs": [
    {
     "name": "stdout",
     "output_type": "stream",
     "text": [
      "foo: Foo id: 140366917016688\n",
      "foo: Bar id: 140366917044072\n"
     ]
    }
   ],
   "source": [
    "foo='Foo'\n",
    "print(\"foo:\", foo, \"id:\", id(foo))\n",
    "foo ='Bar'\n",
    "print(\"foo:\", foo, \"id:\", id(foo))"
   ]
  },
  {
   "cell_type": "markdown",
   "metadata": {},
   "source": [
    "## Operations\n",
    "\n",
    "### Concatenation +\n",
    "-  str1 + str2\n",
    "-  str1 + str2 + str3\n",
    "![Concatenation](images/Lecture-6.003.png)"
   ]
  },
  {
   "cell_type": "code",
   "execution_count": 143,
   "metadata": {},
   "outputs": [
    {
     "name": "stdout",
     "output_type": "stream",
     "text": [
      "FooBar\n"
     ]
    }
   ],
   "source": [
    "fooStr = 'Foo'\n",
    "barStr = 'Bar'\n",
    "cat = fooStr + barStr\n",
    "print(cat)"
   ]
  },
  {
   "cell_type": "code",
   "execution_count": 144,
   "metadata": {},
   "outputs": [
    {
     "data": {
      "text/plain": [
       "'FooBar'"
      ]
     },
     "execution_count": 144,
     "metadata": {},
     "output_type": "execute_result"
    }
   ],
   "source": [
    "cat = \"Foo\" \"Bar\"   # no plus, strings by themselves\n",
    "cat"
   ]
  },
  {
   "cell_type": "code",
   "execution_count": 145,
   "metadata": {},
   "outputs": [
    {
     "data": {
      "text/plain": [
       "'FooBarBaz'"
      ]
     },
     "execution_count": 145,
     "metadata": {},
     "output_type": "execute_result"
    }
   ],
   "source": [
    "cat = \"Foo\" \"Bar\" 'Baz'\n",
    "cat"
   ]
  },
  {
   "cell_type": "markdown",
   "metadata": {},
   "source": [
    "### Repetition *\n",
    "-  str1*3\n",
    "-  3*str1\n",
    "\n",
    "![Repetition](images/Lecture-6.004.png)"
   ]
  },
  {
   "cell_type": "code",
   "execution_count": 146,
   "metadata": {},
   "outputs": [
    {
     "name": "stdout",
     "output_type": "stream",
     "text": [
      "FooFooFoo FooFoo\n"
     ]
    }
   ],
   "source": [
    "rep = fooStr*3\n",
    "rep2 = 2*fooStr\n",
    "print (rep, rep2)"
   ]
  },
  {
   "cell_type": "markdown",
   "metadata": {},
   "source": [
    "### Index []\n",
    "![Index](images/Lecture-6.005.png)"
   ]
  },
  {
   "cell_type": "code",
   "execution_count": 147,
   "metadata": {},
   "outputs": [
    {
     "name": "stdout",
     "output_type": "stream",
     "text": [
      "Length: 8\n",
      "Index 0:  H Index 3: l\n"
     ]
    }
   ],
   "source": [
    "helloWorld = 'Hello Wo'\n",
    "print (\"Length:\", len(helloWorld))\n",
    "print (\"Index 0: \", helloWorld[0], \"Index 3:\", helloWorld[3])"
   ]
  },
  {
   "cell_type": "code",
   "execution_count": 148,
   "metadata": {},
   "outputs": [
    {
     "ename": "IndexError",
     "evalue": "string index out of range",
     "output_type": "error",
     "traceback": [
      "\u001b[0;31m---------------------------------------------------------------------------\u001b[0m",
      "\u001b[0;31mIndexError\u001b[0m                                Traceback (most recent call last)",
      "\u001b[0;32m<ipython-input-148-62f138e21ec4>\u001b[0m in \u001b[0;36m<module>\u001b[0;34m()\u001b[0m\n\u001b[0;32m----> 1\u001b[0;31m \u001b[0mhelloWorld\u001b[0m\u001b[0;34m[\u001b[0m\u001b[0;36m8\u001b[0m\u001b[0;34m]\u001b[0m\u001b[0;34m\u001b[0m\u001b[0m\n\u001b[0m",
      "\u001b[0;31mIndexError\u001b[0m: string index out of range"
     ]
    }
   ],
   "source": [
    "helloWorld[8]"
   ]
  },
  {
   "cell_type": "markdown",
   "metadata": {},
   "source": [
    "![Index](images/Lecture-6.006.png)"
   ]
  },
  {
   "cell_type": "code",
   "execution_count": 149,
   "metadata": {},
   "outputs": [
    {
     "name": "stdout",
     "output_type": "stream",
     "text": [
      "Index -1:  o Index -8: H\n"
     ]
    }
   ],
   "source": [
    "print (\"Index -1: \", helloWorld[-1], \"Index -8:\", helloWorld[-8])"
   ]
  },
  {
   "cell_type": "markdown",
   "metadata": {},
   "source": [
    "### Slice [start:Upto:Skip]\n",
    "![Slice](images/Lecture-6.007.png)"
   ]
  },
  {
   "cell_type": "code",
   "execution_count": 150,
   "metadata": {},
   "outputs": [
    {
     "name": "stdout",
     "output_type": "stream",
     "text": [
      "helloWorld[1:4] ell\n"
     ]
    }
   ],
   "source": [
    "print (\"helloWorld[1:4]\", helloWorld[1:4])"
   ]
  },
  {
   "cell_type": "markdown",
   "metadata": {},
   "source": [
    "![Slice](images/Lecture-6.008.png)"
   ]
  },
  {
   "cell_type": "code",
   "execution_count": 151,
   "metadata": {},
   "outputs": [
    {
     "name": "stdout",
     "output_type": "stream",
     "text": [
      "helloWorld[0:7:2] HloW\n"
     ]
    }
   ],
   "source": [
    "print (\"helloWorld[0:7:2]\", helloWorld[0:7:2])"
   ]
  },
  {
   "cell_type": "markdown",
   "metadata": {},
   "source": [
    "![Slice](images/Lecture-6.009.png)"
   ]
  },
  {
   "cell_type": "code",
   "execution_count": 152,
   "metadata": {},
   "outputs": [
    {
     "name": "stdout",
     "output_type": "stream",
     "text": [
      "helloWorld[::-1] oW olleH\n"
     ]
    }
   ],
   "source": [
    "print (\"helloWorld[::-1]\", helloWorld[::-1])"
   ]
  },
  {
   "cell_type": "markdown",
   "metadata": {},
   "source": [
    "## String Format specifier\n",
    "- A string can be formated using %\n",
    "\n",
    "| format | remarks |\n",
    "| --- | --- |\n",
    "| %d, %i | Decimal |\n",
    "| %s | string |\n",
    "| %f | floating point |\n",
    "| %e, %E | scientific notation |\n",
    "| %x, %X | hex |"
   ]
  },
  {
   "cell_type": "code",
   "execution_count": 153,
   "metadata": {},
   "outputs": [
    {
     "name": "stdout",
     "output_type": "stream",
     "text": [
      "percent d: 10\n"
     ]
    }
   ],
   "source": [
    "print (\"percent d: %d\" % (10))"
   ]
  },
  {
   "cell_type": "code",
   "execution_count": 154,
   "metadata": {},
   "outputs": [
    {
     "name": "stdout",
     "output_type": "stream",
     "text": [
      "percent i: -10\n"
     ]
    }
   ],
   "source": [
    "print (\"percent i: %i\" % (-10.23))"
   ]
  },
  {
   "cell_type": "code",
   "execution_count": 155,
   "metadata": {},
   "outputs": [
    {
     "name": "stdout",
     "output_type": "stream",
     "text": [
      "percent f: 3.141500\n"
     ]
    }
   ],
   "source": [
    "print (\"percent f: %f\" % (3.1415))"
   ]
  },
  {
   "cell_type": "code",
   "execution_count": 156,
   "metadata": {},
   "outputs": [
    {
     "name": "stdout",
     "output_type": "stream",
     "text": [
      "percent e/E: 1.000000e+04\n"
     ]
    }
   ],
   "source": [
    "print (\"percent e/E: %e\" % (10000))"
   ]
  },
  {
   "cell_type": "code",
   "execution_count": 157,
   "metadata": {},
   "outputs": [
    {
     "name": "stdout",
     "output_type": "stream",
     "text": [
      "percent s: 10000\n"
     ]
    }
   ],
   "source": [
    "print (\"percent s: %s\" % (10000))"
   ]
  },
  {
   "cell_type": "code",
   "execution_count": 158,
   "metadata": {},
   "outputs": [
    {
     "name": "stdout",
     "output_type": "stream",
     "text": [
      "percent x: fffe\n"
     ]
    }
   ],
   "source": [
    "print (\"percent x: %x\" % (65534))"
   ]
  },
  {
   "cell_type": "code",
   "execution_count": 159,
   "metadata": {},
   "outputs": [
    {
     "name": "stdout",
     "output_type": "stream",
     "text": [
      "percent X: FFFE\n"
     ]
    }
   ],
   "source": [
    "print (\"percent X: %X\" % (65534))"
   ]
  },
  {
   "cell_type": "code",
   "execution_count": null,
   "metadata": {},
   "outputs": [],
   "source": [
    "print (\"percent X: %X %X\" % (47710, 47633))"
   ]
  },
  {
   "cell_type": "markdown",
   "metadata": {},
   "source": [
    "### String Methods\n",
    "- dir(str)\n",
    "- help(str.casefold)"
   ]
  },
  {
   "cell_type": "code",
   "execution_count": null,
   "metadata": {},
   "outputs": [],
   "source": [
    "dir(str)"
   ]
  },
  {
   "cell_type": "code",
   "execution_count": null,
   "metadata": {},
   "outputs": [],
   "source": [
    "help(str.casefold)"
   ]
  },
  {
   "cell_type": "code",
   "execution_count": null,
   "metadata": {},
   "outputs": [],
   "source": [
    "s_upper = \"HELLO\"\n",
    "s_lower = \"hello\"\n",
    "\n",
    "s_upper == s_lower"
   ]
  },
  {
   "cell_type": "code",
   "execution_count": null,
   "metadata": {},
   "outputs": [],
   "source": [
    "s_upper.casefold() == s_lower.casefold()"
   ]
  },
  {
   "cell_type": "code",
   "execution_count": null,
   "metadata": {},
   "outputs": [],
   "source": [
    "\"hello world\".capitalize()"
   ]
  },
  {
   "cell_type": "code",
   "execution_count": null,
   "metadata": {},
   "outputs": [],
   "source": [
    "\"hello world\".title()"
   ]
  },
  {
   "cell_type": "code",
   "execution_count": null,
   "metadata": {},
   "outputs": [],
   "source": [
    "\"hello world\".upper()"
   ]
  },
  {
   "cell_type": "code",
   "execution_count": null,
   "metadata": {},
   "outputs": [],
   "source": [
    "'HELLO WORLD'.lower()"
   ]
  },
  {
   "cell_type": "code",
   "execution_count": null,
   "metadata": {},
   "outputs": [],
   "source": [
    "\"hello world\".count('l')  # there are 3 l in hello world"
   ]
  },
  {
   "cell_type": "code",
   "execution_count": null,
   "metadata": {
    "scrolled": true
   },
   "outputs": [],
   "source": [
    "\"hello world\".count('Z')  # there is no Z in hello world"
   ]
  },
  {
   "cell_type": "markdown",
   "metadata": {},
   "source": [
    "#### Strip White Spaces"
   ]
  },
  {
   "cell_type": "code",
   "execution_count": null,
   "metadata": {
    "collapsed": true
   },
   "outputs": [],
   "source": [
    "s = \"    hello world   \"  # whitespaces at start and end"
   ]
  },
  {
   "cell_type": "code",
   "execution_count": null,
   "metadata": {},
   "outputs": [],
   "source": [
    "print(\"s: |{}| s.strip: |{}|\".format(s, s.strip()))"
   ]
  },
  {
   "cell_type": "code",
   "execution_count": null,
   "metadata": {},
   "outputs": [],
   "source": [
    "s.strip()"
   ]
  },
  {
   "cell_type": "markdown",
   "metadata": {},
   "source": [
    "#### Strip Leading and Trailing Characters"
   ]
  },
  {
   "cell_type": "code",
   "execution_count": null,
   "metadata": {},
   "outputs": [],
   "source": [
    "s = \" ;,hello world!?   \"  # whitespaces and punctuations\n",
    "s.strip(';,!? ')           # remove characters at start and end of string"
   ]
  },
  {
   "cell_type": "markdown",
   "metadata": {},
   "source": [
    "#### Split White Spaces"
   ]
  },
  {
   "cell_type": "code",
   "execution_count": null,
   "metadata": {
    "collapsed": true
   },
   "outputs": [],
   "source": [
    "s=\"The brown fox jumped quickly at the lazy dogs\""
   ]
  },
  {
   "cell_type": "code",
   "execution_count": null,
   "metadata": {
    "scrolled": false
   },
   "outputs": [],
   "source": [
    "s.split()"
   ]
  },
  {
   "cell_type": "markdown",
   "metadata": {},
   "source": [
    "### Strip and Splitlines"
   ]
  },
  {
   "cell_type": "code",
   "execution_count": null,
   "metadata": {
    "scrolled": true
   },
   "outputs": [],
   "source": [
    "s = '''\n",
    "line 1\n",
    "line 2\n",
    "line 3\n",
    "'''\n",
    "s    # note \\n are new lines"
   ]
  },
  {
   "cell_type": "code",
   "execution_count": null,
   "metadata": {},
   "outputs": [],
   "source": [
    "s.splitlines() "
   ]
  },
  {
   "cell_type": "code",
   "execution_count": null,
   "metadata": {
    "scrolled": true
   },
   "outputs": [],
   "source": [
    "s.strip().splitlines()"
   ]
  },
  {
   "cell_type": "markdown",
   "metadata": {},
   "source": [
    "### Replace"
   ]
  },
  {
   "cell_type": "code",
   "execution_count": null,
   "metadata": {},
   "outputs": [],
   "source": [
    "s = \"Python Programmers is cool!\"\n",
    "s.replace(\"is\",\"are\")"
   ]
  },
  {
   "cell_type": "code",
   "execution_count": null,
   "metadata": {},
   "outputs": [],
   "source": [
    "s.replace(\"cool\",\"COOL\")"
   ]
  },
  {
   "cell_type": "markdown",
   "metadata": {},
   "source": [
    "### Join"
   ]
  },
  {
   "cell_type": "code",
   "execution_count": null,
   "metadata": {},
   "outputs": [],
   "source": [
    "a2zLetters = \"The brown fox jumped quickly at the lazy dogs\"\n",
    "a2zWords = a2zLetters.split()\n",
    "\" \".join(a2zWords)\n",
    "\n",
    "s.join"
   ]
  },
  {
   "cell_type": "markdown",
   "metadata": {},
   "source": [
    "### Index vs Find\n",
    "- index, rindex\n",
    "- find, rfind"
   ]
  },
  {
   "cell_type": "code",
   "execution_count": null,
   "metadata": {},
   "outputs": [],
   "source": [
    "s = \"One Two Three\"\n",
    "s.find(\"e\")"
   ]
  },
  {
   "cell_type": "code",
   "execution_count": null,
   "metadata": {
    "scrolled": true
   },
   "outputs": [],
   "source": [
    "s.rfind('e')"
   ]
  },
  {
   "cell_type": "code",
   "execution_count": null,
   "metadata": {},
   "outputs": [],
   "source": [
    "s.find(\"Foo\")"
   ]
  },
  {
   "cell_type": "code",
   "execution_count": null,
   "metadata": {},
   "outputs": [],
   "source": [
    "s = \"One Two Three\"\n",
    "s.index(\"e\")"
   ]
  },
  {
   "cell_type": "code",
   "execution_count": null,
   "metadata": {
    "scrolled": true
   },
   "outputs": [],
   "source": [
    "s.rindex('e')"
   ]
  },
  {
   "cell_type": "code",
   "execution_count": null,
   "metadata": {},
   "outputs": [],
   "source": [
    "s.index(\"Foo\")   # expect valueError"
   ]
  },
  {
   "cell_type": "markdown",
   "metadata": {},
   "source": [
    "### String Format method\n",
    "- ''.format()"
   ]
  },
  {
   "cell_type": "code",
   "execution_count": null,
   "metadata": {},
   "outputs": [],
   "source": [
    "'{} {}'.format('one', 'two')"
   ]
  },
  {
   "cell_type": "code",
   "execution_count": null,
   "metadata": {},
   "outputs": [],
   "source": [
    "'{} {}'.format(1, 2)"
   ]
  },
  {
   "cell_type": "code",
   "execution_count": null,
   "metadata": {},
   "outputs": [],
   "source": [
    "'{1} {0} {1}'.format(\"one\",\"two\")"
   ]
  },
  {
   "cell_type": "code",
   "execution_count": null,
   "metadata": {},
   "outputs": [],
   "source": [
    "'{1} {0} {1}'.format(1,2)"
   ]
  },
  {
   "cell_type": "code",
   "execution_count": null,
   "metadata": {},
   "outputs": [],
   "source": [
    "'| {0:<10} | {0:^10} | {0:>10} |'.format('Hello') # sufficient width for hello"
   ]
  },
  {
   "cell_type": "code",
   "execution_count": null,
   "metadata": {},
   "outputs": [],
   "source": [
    "'| {0:<2} | {0:^2} | {0:>2} |'.format('Hello') # string longer than width provided\n"
   ]
  },
  {
   "cell_type": "code",
   "execution_count": null,
   "metadata": {},
   "outputs": [],
   "source": [
    "'{:10.5}'.format('Hello World')  # only 5 characters printedcv"
   ]
  },
  {
   "cell_type": "code",
   "execution_count": null,
   "metadata": {},
   "outputs": [],
   "source": [
    "'{:06.2f}'.format(3.141592653589793)"
   ]
  },
  {
   "cell_type": "markdown",
   "metadata": {},
   "source": [
    "## Recap\n",
    "- Unicode\n",
    "- Strings\n",
    "- Concatenation and Repetition operators\n",
    "- String indexing, Slicing\n",
    "- String Format Sepcifier and Format Methods\n",
    "- String Methods"
   ]
  },
  {
   "cell_type": "markdown",
   "metadata": {},
   "source": [
    "## Assignments\n",
    "- String Operations Assignment\n",
    "- String Operations Writing Assignment"
   ]
  },
  {
   "cell_type": "code",
   "execution_count": null,
   "metadata": {},
   "outputs": [],
   "source": [
    "w = \"equation\"\n",
    "w1 = w[:3]\n",
    "w1"
   ]
  },
  {
   "cell_type": "code",
   "execution_count": null,
   "metadata": {
    "collapsed": true
   },
   "outputs": [],
   "source": [
    "\"EQUAtion\"  "
   ]
  },
  {
   "cell_type": "code",
   "execution_count": null,
   "metadata": {},
   "outputs": [],
   "source": [
    "w[:4].upper() + w[4:]"
   ]
  },
  {
   "cell_type": "code",
   "execution_count": null,
   "metadata": {},
   "outputs": [],
   "source": [
    "t = \"programming is fun\"\n",
    "o = \"Programming IS fun\"\n",
    "s = t.split()\n",
    "s[0].capitalize() + s[1].upper() + s[2]\n",
    "\n",
    "t.capitalize()\n",
    "t.replace('is','IS')"
   ]
  },
  {
   "cell_type": "markdown",
   "metadata": {},
   "source": [
    "## Quiz\n",
    "- Quiz 6"
   ]
  },
  {
   "cell_type": "code",
   "execution_count": null,
   "metadata": {},
   "outputs": [],
   "source": [
    "string1 = \"  :in the middle ; \"\n",
    "string1.strip(':; ')"
   ]
  },
  {
   "cell_type": "markdown",
   "metadata": {},
   "source": [
    "## Reference\n",
    "\n",
    "[Joel On Unicode](https://www.joelonsoftware.com/2003/10/08/the-absolute-minimum-every-software-developer-absolutely-positively-must-know-about-unicode-and-character-sets-no-excuses/)\n",
    "\n",
    "[Strings and Character Data in Python](https://realpython.com/python-strings)\n",
    "  "
   ]
  },
  {
   "cell_type": "code",
   "execution_count": null,
   "metadata": {
    "collapsed": true
   },
   "outputs": [],
   "source": []
  }
 ],
 "metadata": {
  "kernelspec": {
   "display_name": "Python 3",
   "language": "python",
   "name": "python3"
  },
  "language_info": {
   "codemirror_mode": {
    "name": "ipython",
    "version": 3
   },
   "file_extension": ".py",
   "mimetype": "text/x-python",
   "name": "python",
   "nbconvert_exporter": "python",
   "pygments_lexer": "ipython3",
   "version": "3.5.2"
  }
 },
 "nbformat": 4,
 "nbformat_minor": 2
}
